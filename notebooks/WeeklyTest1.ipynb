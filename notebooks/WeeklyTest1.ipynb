{
 "cells": [
  {
   "cell_type": "markdown",
   "source": [
    "##### A feladatok megoldását mentse src/weekly modul-ba a weekly_test_1.py nevű fájlba\n",
    "###### A fájlba kommentként írd be a Neptun kódodat"
   ],
   "metadata": {
    "collapsed": false
   },
   "id": "a8cbfcd702b3de5"
  },
  {
   "cell_type": "code",
   "execution_count": null,
   "outputs": [],
   "source": [
    "# CMHXZV"
   ],
   "metadata": {
    "collapsed": false
   },
   "id": "7570820639b84ca8"
  },
  {
   "cell_type": "code",
   "execution_count": null,
   "outputs": [],
   "source": [
    "# 1., Írjon egy függvényt ami vissza adja a bemeneti lista páros elemeit\n",
    "# függvény név: evens_from_list\n",
    "# bemeneti paraméterek: input_list \n",
    "# kimeneti típus: List "
   ],
   "metadata": {
    "collapsed": false
   },
   "id": "7675f2ea543b3407"
  },
  {
   "cell_type": "code",
   "execution_count": 22,
   "outputs": [],
   "source": [
    "def evens_from_list(input_list):\n",
    "    even_numbers = []\n",
    "    for number in input_list:\n",
    "        if number % 2 == 0:\n",
    "            even_numbers.append(number)\n",
    "    return even_numbers"
   ],
   "metadata": {
    "collapsed": false,
    "ExecuteTime": {
     "end_time": "2023-09-20T17:45:15.167425200Z",
     "start_time": "2023-09-20T17:45:15.151805600Z"
    }
   },
   "id": "249bcda88ef6bb9a"
  },
  {
   "cell_type": "code",
   "execution_count": 26,
   "outputs": [
    {
     "name": "stdout",
     "output_type": "stream",
     "text": [
      "[2, 4, 6, 8, 10]\n"
     ]
    },
    {
     "data": {
      "text/plain": "list"
     },
     "execution_count": 26,
     "metadata": {},
     "output_type": "execute_result"
    }
   ],
   "source": [
    "input_list = [1, 2, 3, 4, 5, 6, 7, 8, 9, 10]\n",
    "\n",
    "print(evens_from_list(input_list))\n",
    "\n",
    "kesz = (evens_from_list(input_list))\n",
    "type(kesz)"
   ],
   "metadata": {
    "collapsed": false,
    "ExecuteTime": {
     "end_time": "2023-09-20T17:47:00.903940700Z",
     "start_time": "2023-09-20T17:47:00.819220100Z"
    }
   },
   "id": "d7595a49d9eb729f"
  },
  {
   "cell_type": "code",
   "execution_count": 13,
   "outputs": [],
   "source": [
    "# 2., Írjon egy függvényt ami megvizsgálja, hogy a listában minden elem páratlan-e\n",
    "# függvény név: every_element_is_odd\n",
    "# bemeneti paraméterek: input_list \n",
    "# kimeneti típus: bool "
   ],
   "metadata": {
    "collapsed": false,
    "ExecuteTime": {
     "end_time": "2023-09-20T17:37:49.924486200Z",
     "start_time": "2023-09-20T17:37:49.902354200Z"
    }
   },
   "id": "initial_id"
  },
  {
   "cell_type": "code",
   "execution_count": 35,
   "outputs": [],
   "source": [
    "def every_element_is_odd(input_list):\n",
    "    for bool in input_list:\n",
    "        if bool % 2 == 0:\n",
    "            return False\n",
    "    return True"
   ],
   "metadata": {
    "collapsed": false,
    "ExecuteTime": {
     "end_time": "2023-09-20T17:56:27.920433600Z",
     "start_time": "2023-09-20T17:56:27.904812600Z"
    }
   },
   "id": "f403d1a38951a2e5"
  },
  {
   "cell_type": "code",
   "execution_count": 44,
   "outputs": [
    {
     "name": "stdout",
     "output_type": "stream",
     "text": [
      "False\n"
     ]
    },
    {
     "data": {
      "text/plain": "bool"
     },
     "execution_count": 44,
     "metadata": {},
     "output_type": "execute_result"
    }
   ],
   "source": [
    "input_list_2 = [1, 3, 4, 5]\n",
    "\n",
    "eredmeny = (every_element_is_odd(input_list_2))\n",
    "\n",
    "print(eredmeny)\n",
    "\n",
    "type(eredmeny)"
   ],
   "metadata": {
    "collapsed": false,
    "ExecuteTime": {
     "end_time": "2023-09-20T18:05:31.146770700Z",
     "start_time": "2023-09-20T18:05:31.087651700Z"
    }
   },
   "id": "32de36b5b20054fd"
  },
  {
   "cell_type": "code",
   "execution_count": null,
   "outputs": [],
   "source": [
    "# 3., Írjon egy függvényt ami visszaadja a k. legnagyobb elemet listában \n",
    "# függvény név: kth_largest_in_list\n",
    "# bemeneti paraméterek: input_list, kth_largest\n",
    "# kimeneti típus: int "
   ],
   "metadata": {
    "collapsed": false
   },
   "id": "884e2710a259cb85"
  },
  {
   "cell_type": "code",
   "execution_count": 7,
   "outputs": [],
   "source": [
    "def kth_largest_in_list(input_list, kth_largest):\n",
    "    if kth_largest <= 0 or kth_largest > len(input_list):\n",
    "        return None\n",
    "    sorted_list = sorted(input_list, reverse=True)\n",
    "    return sorted_list[kth_largest - 1]\n",
    "\n"
   ],
   "metadata": {
    "collapsed": false,
    "ExecuteTime": {
     "end_time": "2023-10-07T11:17:06.109367600Z",
     "start_time": "2023-10-07T11:17:06.078445600Z"
    }
   },
   "id": "af9f705a9b8115f"
  },
  {
   "cell_type": "code",
   "execution_count": 8,
   "outputs": [
    {
     "name": "stdout",
     "output_type": "stream",
     "text": [
      "3. legnagyobb elem: 30\n"
     ]
    }
   ],
   "source": [
    "my_list = [10, 20, 30, 40, 50]\n",
    "k = 3\n",
    "result = kth_largest_in_list(my_list, k)\n",
    "print(f\"{k}. legnagyobb elem: {result}\")"
   ],
   "metadata": {
    "collapsed": false,
    "ExecuteTime": {
     "end_time": "2023-10-07T11:17:07.857880700Z",
     "start_time": "2023-10-07T11:17:07.794000600Z"
    }
   },
   "id": "5a4c2a396921bf8d"
  },
  {
   "cell_type": "code",
   "execution_count": null,
   "outputs": [],
   "source": [
    "# 4., Írjon egy függvényt ami kiszámítja a lista elemek gördülő átlagát\n",
    "# függvény név: cumavg_list\n",
    "# bemeneti paraméterek: input_list \n",
    "# kimeneti típus: List "
   ],
   "metadata": {
    "collapsed": false
   },
   "id": "8021cc1853d79c8"
  },
  {
   "cell_type": "code",
   "execution_count": 9,
   "outputs": [],
   "source": [
    "def cumavg_list(input_list):\n",
    "    if not input_list:\n",
    "        return []\n",
    "\n",
    "    cumulative_sum = 0\n",
    "    cumulative_avg_list = []\n",
    "\n",
    "    for i, value in enumerate(input_list):\n",
    "        cumulative_sum += value\n",
    "        avg = cumulative_sum / (i + 1)\n",
    "        cumulative_avg_list.append(avg)\n",
    "\n",
    "    return cumulative_avg_list\n",
    "\n",
    "\n"
   ],
   "metadata": {
    "collapsed": false,
    "ExecuteTime": {
     "end_time": "2023-10-07T11:19:25.323505300Z",
     "start_time": "2023-10-07T11:19:25.293404200Z"
    }
   },
   "id": "1b934675038ee3d3"
  },
  {
   "cell_type": "code",
   "execution_count": 10,
   "outputs": [
    {
     "name": "stdout",
     "output_type": "stream",
     "text": [
      "Gördülő átlagok: [1.0, 1.5, 2.0, 2.5, 3.0]\n"
     ]
    }
   ],
   "source": [
    "my_list = [1, 2, 3, 4, 5]\n",
    "result = cumavg_list(my_list)\n",
    "print(\"Gördülő átlagok:\", result)"
   ],
   "metadata": {
    "collapsed": false,
    "ExecuteTime": {
     "end_time": "2023-10-07T11:19:27.292538200Z",
     "start_time": "2023-10-07T11:19:27.265950600Z"
    }
   },
   "id": "185383fff68901dc"
  },
  {
   "cell_type": "code",
   "execution_count": null,
   "outputs": [],
   "source": [
    "# 5., Írjon egy függvényt ami kiszámítja 2 lista elemenként vett szorzatát\n",
    "# függvény név: element_wise_multiplication\n",
    "# bemeneti paraméterek: input_list1, input_list2 \n",
    "# kimeneti típus: List "
   ],
   "metadata": {
    "collapsed": false
   },
   "id": "323feea145ed36b4"
  },
  {
   "cell_type": "code",
   "execution_count": 11,
   "outputs": [],
   "source": [
    "def element_wise_multiplication(input_list1, input_list2):\n",
    "    if len(input_list1) != len(input_list2):\n",
    "        return None\n",
    "    \n",
    "    result_list = []\n",
    "\n",
    "    for i in range(len(input_list1)):\n",
    "        product = input_list1[i] * input_list2[i]\n",
    "        result_list.append(product)\n",
    "\n",
    "    return result_list\n",
    "\n",
    "\n"
   ],
   "metadata": {
    "collapsed": false,
    "ExecuteTime": {
     "end_time": "2023-10-07T11:21:04.803966700Z",
     "start_time": "2023-10-07T11:21:04.768277800Z"
    }
   },
   "id": "ce2d7d79deff3706"
  },
  {
   "cell_type": "code",
   "execution_count": 12,
   "outputs": [
    {
     "name": "stdout",
     "output_type": "stream",
     "text": [
      "Elemenkénti szorzat: [10, 40, 90, 160, 250]\n"
     ]
    }
   ],
   "source": [
    "# Példa használat:\n",
    "list1 = [1, 2, 3, 4, 5]\n",
    "list2 = [10, 20, 30, 40, 50]\n",
    "result = element_wise_multiplication(list1, list2)\n",
    "print(\"Elemenkénti szorzat:\", result)"
   ],
   "metadata": {
    "collapsed": false,
    "ExecuteTime": {
     "end_time": "2023-10-07T11:21:05.611924100Z",
     "start_time": "2023-10-07T11:21:05.565889Z"
    }
   },
   "id": "6674291fd3503469"
  },
  {
   "cell_type": "code",
   "execution_count": null,
   "outputs": [],
   "source": [
    "# 6., Írjon egy függvényt amely összekapcsol n listát 1 listába\n",
    "# függvény név: merge_lists\n",
    "# bemeneti paraméterek: *lists\n",
    "# kimeneti típus: List "
   ],
   "metadata": {
    "collapsed": false
   },
   "id": "d1dc000ed96cff44"
  },
  {
   "cell_type": "code",
   "execution_count": 13,
   "outputs": [],
   "source": [
    "def merge_lists(*lists):\n",
    "    merged_list = []\n",
    "    \n",
    "    for lst in lists:\n",
    "        merged_list.extend(lst)\n",
    "    \n",
    "    return merged_list\n",
    "\n",
    "\n"
   ],
   "metadata": {
    "collapsed": false,
    "ExecuteTime": {
     "end_time": "2023-10-07T11:22:31.497804900Z",
     "start_time": "2023-10-07T11:22:31.454888900Z"
    }
   },
   "id": "c4af23267ba36eec"
  },
  {
   "cell_type": "code",
   "execution_count": 14,
   "outputs": [
    {
     "name": "stdout",
     "output_type": "stream",
     "text": [
      "Összekapcsolt lista: [1, 2, 3, 4, 5, 6, 7, 8, 9]\n"
     ]
    }
   ],
   "source": [
    "list1 = [1, 2, 3]\n",
    "list2 = [4, 5, 6]\n",
    "list3 = [7, 8, 9]\n",
    "\n",
    "result = merge_lists(list1, list2, list3)\n",
    "print(\"Összekapcsolt lista:\", result)"
   ],
   "metadata": {
    "collapsed": false,
    "ExecuteTime": {
     "end_time": "2023-10-07T11:22:32.346000100Z",
     "start_time": "2023-10-07T11:22:32.317536200Z"
    }
   },
   "id": "f1480710f296f984"
  },
  {
   "cell_type": "code",
   "execution_count": 71,
   "outputs": [],
   "source": [
    "# 7., Írjon egy függvényt amely visszaadja a lista páratlan elemeinek a négyzetét\n",
    "# függvény név: squared_odds\n",
    "# bemeneti paraméterek: input_list\n",
    "# kimeneti típus: List "
   ],
   "metadata": {
    "collapsed": false,
    "ExecuteTime": {
     "end_time": "2023-09-20T18:26:07.889586600Z",
     "start_time": "2023-09-20T18:26:07.873965800Z"
    }
   },
   "id": "2841a2374dec25f5"
  },
  {
   "cell_type": "code",
   "execution_count": 55,
   "outputs": [],
   "source": [
    "def squared_odds(input_list):\n",
    "    odd_squares = []\n",
    "    for number in input_list:\n",
    "        if number % 2 != 0:\n",
    "            odd_squares.append(number ** 2)\n",
    "    return odd_squares"
   ],
   "metadata": {
    "collapsed": false,
    "ExecuteTime": {
     "end_time": "2023-09-20T18:22:07.341917300Z",
     "start_time": "2023-09-20T18:22:07.326280Z"
    }
   },
   "id": "96beb0cb1de4283d"
  },
  {
   "cell_type": "code",
   "execution_count": 56,
   "outputs": [
    {
     "name": "stdout",
     "output_type": "stream",
     "text": [
      "[1, 9, 25, 49]\n"
     ]
    },
    {
     "data": {
      "text/plain": "list"
     },
     "execution_count": 56,
     "metadata": {},
     "output_type": "execute_result"
    }
   ],
   "source": [
    "input_list_3 = [1, 3, 4, 5, 6 ,7]\n",
    "\n",
    "eredmeny_3 = (squared_odds(input_list_3))\n",
    "\n",
    "print(eredmeny_3)\n",
    "\n",
    "type(eredmeny_3)"
   ],
   "metadata": {
    "collapsed": false,
    "ExecuteTime": {
     "end_time": "2023-09-20T18:22:09.192647800Z",
     "start_time": "2023-09-20T18:22:09.161226800Z"
    }
   },
   "id": "23caa98600146465"
  },
  {
   "cell_type": "code",
   "execution_count": null,
   "outputs": [],
   "source": [
    "# 8., Írjon egy függvényt amely a fordítottan sorba rendezi a kulcs-érték párokat a kulcs értéke szerint egy dictionary-ben\n",
    "# függvény név: reverse_sort_by_key\n",
    "# bemeneti paraméterek: input_dict\n",
    "# kimeneti típus: Dict "
   ],
   "metadata": {
    "collapsed": false
   },
   "id": "12e757ffc972f77a"
  },
  {
   "cell_type": "code",
   "execution_count": 15,
   "outputs": [],
   "source": [
    "def reverse_sort_by_key(input_dict):\n",
    "    sorted_dict = dict(sorted(input_dict.items(), key=lambda item: item[0], reverse=True))\n",
    "    return sorted_dict\n",
    "\n"
   ],
   "metadata": {
    "collapsed": false,
    "ExecuteTime": {
     "end_time": "2023-10-07T11:23:45.505977300Z",
     "start_time": "2023-10-07T11:23:45.461050900Z"
    }
   },
   "id": "e9a710de823bd229"
  },
  {
   "cell_type": "code",
   "execution_count": 16,
   "outputs": [
    {
     "name": "stdout",
     "output_type": "stream",
     "text": [
      "Fordítottan sorba rendezett dictionary: {'c': 1, 'b': 3, 'a': 2}\n"
     ]
    }
   ],
   "source": [
    "my_dict = {'b': 3, 'a': 2, 'c': 1}\n",
    "result = reverse_sort_by_key(my_dict)\n",
    "print(\"Fordítottan sorba rendezett dictionary:\", result)\n"
   ],
   "metadata": {
    "collapsed": false,
    "ExecuteTime": {
     "end_time": "2023-10-07T11:23:46.156605900Z",
     "start_time": "2023-10-07T11:23:46.146596400Z"
    }
   },
   "id": "e566b85e382d428d"
  },
  {
   "cell_type": "code",
   "execution_count": null,
   "outputs": [],
   "source": [
    "# 9., Írjon egy függvényt amely a bemeneti, pozitív egész számokat tartalmazó listát kiválogatja 2-vel, 5-el, 2-vel és 5-el, és egyikkel sem osztható számokat, és visszaad egy olyan dictionary-t, amelyben a kulcsok a 'by_two', 'by_five', 'by_two_and_five', és a 'by_none', az értékek, pedig a listák. (2 pont)\n",
    "# függvény név: sort_list_by_divisibility\n",
    "# bemeneti paraméterek: input_list\n",
    "# kimeneti típus: Dict "
   ],
   "metadata": {
    "collapsed": false
   },
   "id": "58dc0ff752928e36"
  },
  {
   "cell_type": "code",
   "execution_count": 17,
   "outputs": [],
   "source": [
    "def sort_list_by_divisibility(input_list):\n",
    "    by_two = []\n",
    "    by_five = []\n",
    "    by_two_and_five = []\n",
    "    by_none = []\n",
    "\n",
    "    for num in input_list:\n",
    "        if num % 2 == 0 and num % 5 == 0:\n",
    "            by_two_and_five.append(num)\n",
    "        elif num % 2 == 0:\n",
    "            by_two.append(num)\n",
    "        elif num % 5 == 0:\n",
    "            by_five.append(num)\n",
    "        else:\n",
    "            by_none.append(num)\n",
    "\n",
    "    result_dict = {\n",
    "        'by_two': by_two,\n",
    "        'by_five': by_five,\n",
    "        'by_two_and_five': by_two_and_five,\n",
    "        'by_none': by_none\n",
    "    }\n",
    "\n",
    "    return result_dict\n",
    "\n"
   ],
   "metadata": {
    "collapsed": false,
    "ExecuteTime": {
     "end_time": "2023-10-07T11:24:50.994631400Z",
     "start_time": "2023-10-07T11:24:50.961416400Z"
    }
   },
   "id": "d62344d106bd25ab"
  },
  {
   "cell_type": "code",
   "execution_count": 18,
   "outputs": [
    {
     "name": "stdout",
     "output_type": "stream",
     "text": [
      "Eredmény dictionary: {'by_two': [2, 4], 'by_five': [5, 15], 'by_two_and_five': [10, 20], 'by_none': [1, 3]}\n"
     ]
    }
   ],
   "source": [
    "my_list = [1, 2, 3, 4, 5, 10, 15, 20]\n",
    "result = sort_list_by_divisibility(my_list)\n",
    "print(\"Eredmény dictionary:\", result)"
   ],
   "metadata": {
    "collapsed": false,
    "ExecuteTime": {
     "end_time": "2023-10-07T11:24:52.547517200Z",
     "start_time": "2023-10-07T11:24:52.488194300Z"
    }
   },
   "id": "4dc12112d99a1b81"
  },
  {
   "cell_type": "code",
   "execution_count": null,
   "outputs": [],
   "source": [],
   "metadata": {
    "collapsed": false
   },
   "id": "157ca581056654f7"
  },
  {
   "cell_type": "markdown",
   "source": [],
   "metadata": {
    "collapsed": false
   },
   "id": "c0cd37813169932a"
  }
 ],
 "metadata": {
  "kernelspec": {
   "display_name": "Python 3",
   "language": "python",
   "name": "python3"
  },
  "language_info": {
   "codemirror_mode": {
    "name": "ipython",
    "version": 2
   },
   "file_extension": ".py",
   "mimetype": "text/x-python",
   "name": "python",
   "nbconvert_exporter": "python",
   "pygments_lexer": "ipython2",
   "version": "2.7.6"
  }
 },
 "nbformat": 4,
 "nbformat_minor": 5
}
