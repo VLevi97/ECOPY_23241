{
 "cells": [
  {
   "cell_type": "markdown",
   "source": [
    "## A feladatok megoldása során csak a random, typing, math és pyerf modulok importálása elfogadott\n",
    "\n",
    "## A 12.-14. feladatok során a scipy.special modul gamma, gammainc és gammaincinv függvényei is használhatók"
   ],
   "metadata": {
    "collapsed": false
   },
   "id": "a2a646bc8134d132"
  },
  {
   "cell_type": "markdown",
   "source": [
    "### A teszt feladatok megoldását mentse src/utils modul-ba a distributions.py nevű fájlba"
   ],
   "metadata": {
    "collapsed": false
   },
   "id": "be5c1ecee01b88d7"
  },
  {
   "cell_type": "code",
   "execution_count": 3,
   "outputs": [
    {
     "data": {
      "text/plain": "'\\n1., Hozzan létre egy új osztályt aminek a neve LogisticDistribution. Definiáljon benne a __init__ nevű függvényt, amely bemenetként kap egy véletlenszám generátort, és az eloszlás várható értékét (location) és szórás (scale) paramétereit, amely értékeket adattagokba ment le.\\n    Osztály név: LogisticDistribution\\n    függvény név: __init__\\n    bemenet: self, rand, loc, scale\\n    link: https://en.wikipedia.org/wiki/Logistic_distribution\\n \\n2., Egészítse ki a LogisticDistribution osztályt egy új függvénnyel, amely megvalósítja az eloszlás sűrűség függvényét.\\n    függvény név: pdf\\n    bemenet: x\\n    kimeneti típus: float\\n \\n3., Egészítse ki a LogisticDistribution osztályt egy új függvénnyel, amely megvalósítja az eloszlás kumulatív eloszlás függvényét.\\n    függvény név: cdf\\n    bemenet: x\\n    kimeneti típus: float\\n    \\n4., Egészítse ki a LogisticDistribution osztályt egy új függvénnyel, amely implementálja az eloszlás inverz kumulatív eloszlás függvényét\\n    függvény név: ppf\\n    bemenet: p\\n    kimeneti típus: float\\n \\n5., Egészítse ki a LogisticDistribution osztályt egy új függvénnyel, amely az osztály létrehozásánál megadott paraméterek mellett, logisztikus eloszlású véletlen számokat generál minden meghívásnál\\n    függvény név: gen_rand\\n    bemenet: None\\n    kimeneti típus: float\\n \\n6., Egészítse ki a LogisticDistribution osztályt egy új függvénnyel, amely visszaadja az eloszlás függvény várható értékét. Ha az eloszlásnak nincsen ilyen értéke, akkor return helyett hívja meg a raise Exception(\"Moment undefined\") parancsot.\\n    függvény név: mean\\n    bemenet: None\\n    kimeneti típus: float\\n \\n7., Egészítse ki a LogisticDistribution osztályt egy új függvénnyel, amely visszaadja az eloszlás függvény varianciáját. Ha az eloszlásnak nincsen ilyen értéke, akkor return helyett hívja meg a raise Exception(\"Moment undefined\") parancsot.\\n    függvény név: variance\\n    bemenet: None\\n    kimeneti típus: float\\n \\n8., Egészítse ki a LogisticDistribution osztályt egy új függvénnyel, amely visszaadja az eloszlás függvény ferdeségét. Ha az eloszlásnak nincsen ilyen értéke, akkor return helyett hívja meg a raise Exception(\"Moment undefined\") parancsot.\\n    függvény név: skewness\\n    bemenet: None\\n    kimeneti típus: float\\n \\n9., Egészítse ki a LogisticDistribution osztályt egy új függvénnyel, amely visszaadja az eloszlás függvény többlet csúcsosságát. Ha az eloszlásnak nincsen ilyen értéke, akkor return helyett hívja meg a raise Exception(\"Moment undefined\") parancsot.\\n    függvény név: ex_kurtosis\\n    bemenet: None\\n    kimeneti típus: float\\n\\n10., Egészítse ki a LogisticDistribution osztályt egy új függvénnyel, amely visszaadja az eloszlás függvény első momentumát, a 2. és 3. cetrális momentumát, és a többlet csúcsosságot.. Ha az eloszlásnak nincsenek ilyen értékei, akkor return helyett hívja meg a raise Exception(\"Moment undefined\") parancsot.\\n    függvény név: mvsk\\n    bemenet: None\\n    kimeneti típus: List\\n'"
     },
     "execution_count": 3,
     "metadata": {},
     "output_type": "execute_result"
    }
   ],
   "source": [
    "\"\"\"\n",
    "1., Hozzan létre egy új osztályt aminek a neve LogisticDistribution. Definiáljon benne a __init__ nevű függvényt, amely bemenetként kap egy véletlenszám generátort, és az eloszlás várható értékét (location) és szórás (scale) paramétereit, amely értékeket adattagokba ment le.\n",
    "    Osztály név: LogisticDistribution\n",
    "    függvény név: __init__\n",
    "    bemenet: self, rand, loc, scale\n",
    "    link: https://en.wikipedia.org/wiki/Logistic_distribution\n",
    " \n",
    "2., Egészítse ki a LogisticDistribution osztályt egy új függvénnyel, amely megvalósítja az eloszlás sűrűség függvényét.\n",
    "    függvény név: pdf\n",
    "    bemenet: x\n",
    "    kimeneti típus: float\n",
    " \n",
    "3., Egészítse ki a LogisticDistribution osztályt egy új függvénnyel, amely megvalósítja az eloszlás kumulatív eloszlás függvényét.\n",
    "    függvény név: cdf\n",
    "    bemenet: x\n",
    "    kimeneti típus: float\n",
    "    \n",
    "4., Egészítse ki a LogisticDistribution osztályt egy új függvénnyel, amely implementálja az eloszlás inverz kumulatív eloszlás függvényét\n",
    "    függvény név: ppf\n",
    "    bemenet: p\n",
    "    kimeneti típus: float\n",
    " \n",
    "5., Egészítse ki a LogisticDistribution osztályt egy új függvénnyel, amely az osztály létrehozásánál megadott paraméterek mellett, logisztikus eloszlású véletlen számokat generál minden meghívásnál\n",
    "    függvény név: gen_rand\n",
    "    bemenet: None\n",
    "    kimeneti típus: float\n",
    " \n",
    "6., Egészítse ki a LogisticDistribution osztályt egy új függvénnyel, amely visszaadja az eloszlás függvény várható értékét. Ha az eloszlásnak nincsen ilyen értéke, akkor return helyett hívja meg a raise Exception(\"Moment undefined\") parancsot.\n",
    "    függvény név: mean\n",
    "    bemenet: None\n",
    "    kimeneti típus: float\n",
    " \n",
    "7., Egészítse ki a LogisticDistribution osztályt egy új függvénnyel, amely visszaadja az eloszlás függvény varianciáját. Ha az eloszlásnak nincsen ilyen értéke, akkor return helyett hívja meg a raise Exception(\"Moment undefined\") parancsot.\n",
    "    függvény név: variance\n",
    "    bemenet: None\n",
    "    kimeneti típus: float\n",
    " \n",
    "8., Egészítse ki a LogisticDistribution osztályt egy új függvénnyel, amely visszaadja az eloszlás függvény ferdeségét. Ha az eloszlásnak nincsen ilyen értéke, akkor return helyett hívja meg a raise Exception(\"Moment undefined\") parancsot.\n",
    "    függvény név: skewness\n",
    "    bemenet: None\n",
    "    kimeneti típus: float\n",
    " \n",
    "9., Egészítse ki a LogisticDistribution osztályt egy új függvénnyel, amely visszaadja az eloszlás függvény többlet csúcsosságát. Ha az eloszlásnak nincsen ilyen értéke, akkor return helyett hívja meg a raise Exception(\"Moment undefined\") parancsot.\n",
    "    függvény név: ex_kurtosis\n",
    "    bemenet: None\n",
    "    kimeneti típus: float\n",
    "\n",
    "10., Egészítse ki a LogisticDistribution osztályt egy új függvénnyel, amely visszaadja az eloszlás függvény első momentumát, a 2. és 3. cetrális momentumát, és a többlet csúcsosságot.. Ha az eloszlásnak nincsenek ilyen értékei, akkor return helyett hívja meg a raise Exception(\"Moment undefined\") parancsot.\n",
    "    függvény név: mvsk\n",
    "    bemenet: None\n",
    "    kimeneti típus: List\n",
    "\"\"\""
   ],
   "metadata": {
    "collapsed": false,
    "ExecuteTime": {
     "end_time": "2023-10-04T17:49:40.547845500Z",
     "start_time": "2023-10-04T17:49:40.410579300Z"
    }
   },
   "id": "a840b43c1922c042"
  },
  {
   "cell_type": "code",
   "execution_count": 9,
   "outputs": [],
   "source": [
    "import random\n",
    "import math\n",
    "from typing import List\n",
    "import pyerf\n",
    "\n",
    "\n",
    "\n",
    "class LogisticDistribution:\n",
    "    def __init__(self, rand, loc, scale):\n",
    "        self.rand = rand\n",
    "        self.location = loc\n",
    "        self.scale = scale\n",
    "\n",
    "    def pdf(self, x):\n",
    "        exp_term = math.exp(-(x - self.location) / self.scale)\n",
    "        pdf = exp_term / (self.scale * (1 + exp_term)**2)\n",
    "        return pdf\n",
    "\n",
    "    def cdf(self, x):\n",
    "        exp_term = math.exp(-(x - self.location) / self.scale)\n",
    "        cdf = 1 / (1 + exp_term)\n",
    "        return cdf\n",
    "\n",
    "    def ppf(self, p):\n",
    "        if 0 < p < 1:\n",
    "            ppf = self.location - self.scale * math.log(1 / p - 1)\n",
    "            return ppf\n",
    "        else:\n",
    "            raise ValueError(\"p must between 0 and 1\")\n",
    "\n",
    "    def gen_rand(self):\n",
    "        u = self.rand.random()\n",
    "        rand_val = self.location - self.scale * math.log(1 / u - 1)\n",
    "        return rand_val\n",
    "\n",
    "    def mean(self):\n",
    "        return self.location\n",
    "\n",
    "    def variance(self):\n",
    "        var = (math.pi**2 * self.scale**2) / 3\n",
    "        return var\n",
    "\n",
    "    def skewness(self):\n",
    "        return 0\n",
    "\n",
    "    def ex_kurtosis(self):\n",
    "        return 1.2\n",
    "\n",
    "    def mvsk(self):\n",
    "        return [self.mean(), self.variance(), self.skewness(), self.ex_kurtosis()]\n"
   ],
   "metadata": {
    "collapsed": false,
    "ExecuteTime": {
     "end_time": "2023-10-04T18:22:29.274154400Z",
     "start_time": "2023-10-04T18:22:29.234262900Z"
    }
   },
   "id": "dec1d8fe231078df"
  },
  {
   "cell_type": "code",
   "execution_count": 5,
   "outputs": [
    {
     "data": {
      "text/plain": "'\\n11., Hozzan létre egy új osztályt aminek a neve ChiSquaredDistribution. Definiáljon benne a __init__ nevű függvényt, amelynek bemenetként kap egy véletlenszám generátort, és egy szabadságfok (dof) paramétert, amely értékeket adattagokba ment le.\\n    Osztály név: ChiSquaredDistribution\\n    függvény név: __init__\\n    bemenet: self, rand, dof\\n    link: https://en.wikipedia.org/wiki/Chi-squared_distribution\\n    link: https://docs.scipy.org/doc/scipy/tutorial/stats/continuous_chi2.html\\n \\n12., Egészítse ki a ChiSquaredDistribution osztályt egy új függvénnyel, amely megvalósítja az eloszlás sűrűség függvényét.\\n    függvény név: pdf\\n    bemenet: x\\n    kimeneti típus: float\\n \\n13., Egészítse ki a ChiSquaredDistribution osztályt egy új függvénnyel, amely megvalósítja az eloszlás kumulatív eloszlás függvényét.\\n    függvény név: cdf\\n    bemenet: x\\n    kimeneti típus: float\\n    \\n14., Egészítse ki a ChiSquaredDistribution osztályt egy új függvénnyel, amely implementálja az eloszlás inverz kumulatív eloszlás függvényét\\n    függvény név: ppf\\n    bemenet: p\\n    kimeneti típus: float\\n \\n15., Egészítse ki a ChiSquaredDistribution osztályt egy új függvénnyel, amely az osztály létrehozásánál megadott paraméterek mellett, logisztikus eloszlású véletlen számokat generál minden meghívásnál\\n    függvény név: gen_rand\\n    bemenet: None\\n    kimeneti típus: float\\n \\n16., Egészítse ki a ChiSquaredDistribution osztályt egy új függvénnyel, amely visszaadja az eloszlás függvény várható értékét. Ha az eloszlásnak nincsen ilyen értéke, akkor return helyett hívja meg a raise Exception(\"Moment undefined\") parancsot.\\n    függvény név: mean\\n    bemenet: None\\n    kimeneti típus: float\\n \\n17., Egészítse ki a ChiSquaredDistribution osztályt egy új függvénnyel, amely visszaadja az eloszlás függvény varianciáját. Ha az eloszlásnak nincsen ilyen értéke, akkor return helyett hívja meg a raise Exception(\"Moment undefined\") parancsot.\\n    függvény név: variance\\n    bemenet: None\\n    kimeneti típus: float\\n \\n18., Egészítse ki a ChiSquaredDistribution osztályt egy új függvénnyel, amely visszaadja az eloszlás függvény ferdeségét. Ha az eloszlásnak nincsen ilyen értéke, akkor return helyett hívja meg a raise Exception(\"Moment undefined\") parancsot.\\n    függvény név: skewness\\n    bemenet: None\\n    kimeneti típus: float\\n \\n19., Egészítse ki a ChiSquaredDistribution osztályt egy új függvénnyel, amely visszaadja az eloszlás függvény többlet csúcsosságát. Ha az eloszlásnak nincsen ilyen értéke, akkor return helyett hívja meg a raise Exception(\"Moment undefined\") parancsot.\\n    függvény név: ex_kurtosis\\n    bemenet: None\\n    kimeneti típus: float\\n\\n20., Egészítse ki a ChiSquaredDistribution osztályt egy új függvénnyel, amely visszaadja az eloszlás függvény első momentumát, a 2. és 3. cetrális momentumát, és a többlet csúcsosságot.. Ha az eloszlásnak nincsenek ilyen értékei, akkor return helyett hívja meg a raise Exception(\"Moment undefined\") parancsot.\\n    függvény név: mvsk\\n    bemenet: None\\n    kimeneti típus: List\\n'"
     },
     "execution_count": 5,
     "metadata": {},
     "output_type": "execute_result"
    }
   ],
   "source": [
    "\"\"\"\n",
    "11., Hozzan létre egy új osztályt aminek a neve ChiSquaredDistribution. Definiáljon benne a __init__ nevű függvényt, amelynek bemenetként kap egy véletlenszám generátort, és egy szabadságfok (dof) paramétert, amely értékeket adattagokba ment le.\n",
    "    Osztály név: ChiSquaredDistribution\n",
    "    függvény név: __init__\n",
    "    bemenet: self, rand, dof\n",
    "    link: https://en.wikipedia.org/wiki/Chi-squared_distribution\n",
    "    link: https://docs.scipy.org/doc/scipy/tutorial/stats/continuous_chi2.html\n",
    " \n",
    "12., Egészítse ki a ChiSquaredDistribution osztályt egy új függvénnyel, amely megvalósítja az eloszlás sűrűség függvényét.\n",
    "    függvény név: pdf\n",
    "    bemenet: x\n",
    "    kimeneti típus: float\n",
    " \n",
    "13., Egészítse ki a ChiSquaredDistribution osztályt egy új függvénnyel, amely megvalósítja az eloszlás kumulatív eloszlás függvényét.\n",
    "    függvény név: cdf\n",
    "    bemenet: x\n",
    "    kimeneti típus: float\n",
    "    \n",
    "14., Egészítse ki a ChiSquaredDistribution osztályt egy új függvénnyel, amely implementálja az eloszlás inverz kumulatív eloszlás függvényét\n",
    "    függvény név: ppf\n",
    "    bemenet: p\n",
    "    kimeneti típus: float\n",
    " \n",
    "15., Egészítse ki a ChiSquaredDistribution osztályt egy új függvénnyel, amely az osztály létrehozásánál megadott paraméterek mellett, logisztikus eloszlású véletlen számokat generál minden meghívásnál\n",
    "    függvény név: gen_rand\n",
    "    bemenet: None\n",
    "    kimeneti típus: float\n",
    " \n",
    "16., Egészítse ki a ChiSquaredDistribution osztályt egy új függvénnyel, amely visszaadja az eloszlás függvény várható értékét. Ha az eloszlásnak nincsen ilyen értéke, akkor return helyett hívja meg a raise Exception(\"Moment undefined\") parancsot.\n",
    "    függvény név: mean\n",
    "    bemenet: None\n",
    "    kimeneti típus: float\n",
    " \n",
    "17., Egészítse ki a ChiSquaredDistribution osztályt egy új függvénnyel, amely visszaadja az eloszlás függvény varianciáját. Ha az eloszlásnak nincsen ilyen értéke, akkor return helyett hívja meg a raise Exception(\"Moment undefined\") parancsot.\n",
    "    függvény név: variance\n",
    "    bemenet: None\n",
    "    kimeneti típus: float\n",
    " \n",
    "18., Egészítse ki a ChiSquaredDistribution osztályt egy új függvénnyel, amely visszaadja az eloszlás függvény ferdeségét. Ha az eloszlásnak nincsen ilyen értéke, akkor return helyett hívja meg a raise Exception(\"Moment undefined\") parancsot.\n",
    "    függvény név: skewness\n",
    "    bemenet: None\n",
    "    kimeneti típus: float\n",
    " \n",
    "19., Egészítse ki a ChiSquaredDistribution osztályt egy új függvénnyel, amely visszaadja az eloszlás függvény többlet csúcsosságát. Ha az eloszlásnak nincsen ilyen értéke, akkor return helyett hívja meg a raise Exception(\"Moment undefined\") parancsot.\n",
    "    függvény név: ex_kurtosis\n",
    "    bemenet: None\n",
    "    kimeneti típus: float\n",
    "\n",
    "20., Egészítse ki a ChiSquaredDistribution osztályt egy új függvénnyel, amely visszaadja az eloszlás függvény első momentumát, a 2. és 3. cetrális momentumát, és a többlet csúcsosságot.. Ha az eloszlásnak nincsenek ilyen értékei, akkor return helyett hívja meg a raise Exception(\"Moment undefined\") parancsot.\n",
    "    függvény név: mvsk\n",
    "    bemenet: None\n",
    "    kimeneti típus: List\n",
    "\"\"\""
   ],
   "metadata": {
    "collapsed": false,
    "ExecuteTime": {
     "end_time": "2023-10-04T17:49:40.565350500Z",
     "start_time": "2023-10-04T17:49:40.479368100Z"
    }
   },
   "id": "cdafec62d5edd947"
  },
  {
   "cell_type": "code",
   "execution_count": 6,
   "outputs": [],
   "source": [
    "import random\n",
    "import math\n",
    "from scipy.special import gamma, gammainc, gammaincinv\n",
    "\n",
    "class ChiSquaredDistribution:\n",
    "    def __init__(self, rand, dof):\n",
    "        self.rand = rand\n",
    "        self.dof = dof\n",
    "\n",
    "    def pdf(self, x):\n",
    "        if x < 0:\n",
    "            return 0.0\n",
    "        prefactor = 1 / (2 ** (self.dof / 2) * gamma(self.dof / 2))\n",
    "        return prefactor * x ** (self.dof / 2 - 1) * math.exp(-x / 2)\n",
    "\n",
    "    def cdf(self, x):\n",
    "        if x < 0:\n",
    "            return 0.0\n",
    "        return gammainc(self.dof / 2, x / 2)\n",
    "\n",
    "    def ppf(self, p):\n",
    "        if p < 0 or p > 1:\n",
    "            raise ValueError(\"p must be between 0 and 1\")\n",
    "        return 2 * gammaincinv(self.dof / 2, p)\n",
    "\n",
    "    def gen_rand(self):\n",
    "        u = self.rand.random()\n",
    "        return self.ppf(u)\n",
    "\n",
    "    def mean(self):\n",
    "        if self.dof > 1:\n",
    "            return self.dof\n",
    "        else:\n",
    "            raise Exception(\"Moment undefined\")\n",
    "\n",
    "    def variance(self):\n",
    "        if self.dof > 2:\n",
    "            return 2 * self.dof\n",
    "        else:\n",
    "            raise Exception(\"Moment undefined\")\n",
    "\n",
    "    def skewness(self):\n",
    "        if self.dof > 3:\n",
    "            return math.sqrt(8 / self.dof)\n",
    "        else:\n",
    "            raise Exception(\"Moment undefined\")\n",
    "\n",
    "    def ex_kurtosis(self):\n",
    "        if self.dof > 4:\n",
    "            return 12 / self.dof\n",
    "        else:\n",
    "            raise Exception(\"Moment undefined\")\n",
    "\n",
    "    def mvsk(self):\n",
    "        moments = []\n",
    "        if self.dof > 0:\n",
    "            moments.append(self.mean())\n",
    "        else:\n",
    "            raise Exception(\"Moment undefined\")\n",
    "        \n",
    "        if self.dof > 1:\n",
    "            moments.append(self.variance())\n",
    "        else:\n",
    "            raise Exception(\"Moment undefined\")\n",
    "        \n",
    "        if self.dof > 3:\n",
    "            moments.append(self.skewness())\n",
    "            moments.append(self.ex_kurtosis())\n",
    "        else:\n",
    "            raise Exception(\"Moment undefined\")\n",
    "        \n",
    "        return moments\n"
   ],
   "metadata": {
    "collapsed": false,
    "ExecuteTime": {
     "end_time": "2023-10-04T17:49:40.567347900Z",
     "start_time": "2023-10-04T17:49:40.500313400Z"
    }
   },
   "id": "ff6f83743c2be040"
  },
  {
   "cell_type": "code",
   "execution_count": 8,
   "outputs": [],
   "source": [],
   "metadata": {
    "collapsed": false,
    "ExecuteTime": {
     "end_time": "2023-10-04T18:04:54.252589400Z",
     "start_time": "2023-10-04T18:04:54.239624700Z"
    }
   },
   "id": "36930a2f78e045b3"
  },
  {
   "cell_type": "code",
   "execution_count": 10,
   "outputs": [],
   "source": [],
   "metadata": {
    "collapsed": false,
    "ExecuteTime": {
     "end_time": "2023-10-04T18:22:53.101564800Z",
     "start_time": "2023-10-04T18:22:53.042534Z"
    }
   },
   "id": "34c41b26c3e163ae"
  },
  {
   "cell_type": "code",
   "execution_count": null,
   "outputs": [],
   "source": [],
   "metadata": {
    "collapsed": false
   },
   "id": "3f5bd23561f6043d"
  }
 ],
 "metadata": {
  "kernelspec": {
   "display_name": "Python 3",
   "language": "python",
   "name": "python3"
  },
  "language_info": {
   "codemirror_mode": {
    "name": "ipython",
    "version": 2
   },
   "file_extension": ".py",
   "mimetype": "text/x-python",
   "name": "python",
   "nbconvert_exporter": "python",
   "pygments_lexer": "ipython2",
   "version": "2.7.6"
  }
 },
 "nbformat": 4,
 "nbformat_minor": 5
}
