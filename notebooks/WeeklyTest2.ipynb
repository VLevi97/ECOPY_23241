{
 "cells": [
  {
   "cell_type": "markdown",
   "source": [
    "## A feladatok megoldása során csak a random, typing, math és pyerf modulok importálása elfogadott"
   ],
   "metadata": {
    "collapsed": false
   },
   "id": "922e7680b9ef8e9f"
  },
  {
   "cell_type": "markdown",
   "source": [
    "### A teszt feladatok megoldását mentse src/utils modul-ba a weekly_test_2.py nevű fájlba"
   ],
   "metadata": {
    "collapsed": false
   },
   "id": "acdbadded73f891"
  },
  {
   "cell_type": "code",
   "execution_count": 14,
   "outputs": [
    {
     "data": {
      "text/plain": "'\\n1., Hozzan létre egy új osztályt aminek a neve LaplaceDistribution. Definiáljon benne a __init__ nevű függvényt, amelynek bemenetként kap egy véletlenszám generátort, és az eloszlás várható értékét (location) és             varianciáját (scale), amely értékeket adattagokba ment le.\\n    Osztály név: LaplaceDistribution\\n    függvény név: __init__\\n    bemenet: self, rand, loc, scale\\n    link: https://en.wikipedia.org/wiki/Laplace_distribution\\n \\n2., Egészítse ki a LaplaceDistribution osztályt egy új függvénnyel, amely loc várható értékű, scale varianciájú és asymmmetry ferdeségű  aszimmetrikus laplace eloszlás eloszlásfüggvényéből rendel valószínűségi értéket a     bemeneti x valós számhoz.\\n    függvény név: pdf\\n    bemenet: x\\n    kimeneti típus: float\\n \\n3., Egészítse ki a LaplaceDistribution osztályt egy új függvénnyel, amely megvalósítja az eloszlás kumulatív eloszlás függvényét.\\n    függvény név: cdf\\n    bemenet: x\\n    kimeneti típus: float\\n    \\n4., Egészítse ki a LaplaceDistribution osztályt egy új függvénnyel, amely implementálja az eloszlás inverz kumulatív eloszlás függvényét\\n    függvény név: ppf\\n    bemenet: p\\n    kimeneti típus: float\\n \\n5., Egészítse ki a LaplaceDistribution osztályt egy új függvénnyel, amely az osztály létrehozásánál megadott paraméterek mellett, aszimmetrikus laplace eloszlású véletlen számokat generál minden meghívásnál\\n    függvény név: gen_random\\n    bemenet: None\\n    kimeneti típus: float\\n \\n6., Egészítse ki a LaplaceDistribution osztályt egy új függvénnyel, amely visszaadja az eloszlás függvény várható értékét. Ha az eloszlásnak nincsen ilyen értéke, akkor return helyett hívja meg a raise Exception(\"Moment     undefined\") parancsot.\\n    függvény név: mean\\n    bemenet: None\\n    kimeneti típus: float\\n \\n7., Egészítse ki a LaplaceDistribution osztályt egy új függvénnyel, amely visszaadja az eloszlás függvény varianciáját. Ha az eloszlásnak nincsen ilyen értéke, akkor return helyett hívja meg a raise Exception(\"Moment        undefined\") parancsot.\\n    függvény név: variance\\n    bemenet: None\\n    kimeneti típus: float\\n \\n8., Egészítse ki a LaplaceDistribution osztályt egy új függvénnyel, amely visszaadja az eloszlás függvény ferdeségét. Ha az eloszlásnak nincsen ilyen értéke, akkor return helyett hívja meg a raise Exception(\"Moment          undefined\") parancsot.\\n    függvény név: skewness\\n    bemenet: None\\n    kimeneti típus: float\\n \\n9., Egészítse ki a LaplaceDistribution osztályt egy új függvénnyel, amely visszaadja az eloszlás függvény többlet csúcsosságát. Ha az eloszlásnak nincsen ilyen értéke, akkor return helyett hívja meg a raise Exception        (\"Moment undefined\") parancsot.\\n    függvény név: ex_kurtosis\\n    bemenet: None\\n    kimeneti típus: float\\n\\n10., Egészítse ki a LaplaceDistribution osztályt egy új függvénnyel, amely visszaadja az eloszlás függvény első momentumát, a 2. és 3. cetrális momentumát, és a többlet csúcsosságot.. Ha az eloszlásnak nincsenek ilyen       értékei, akkor return helyett hívja meg a raise Exception(\"Moment undefined\") parancsot.\\n    függvény név: mvsk\\n    bemenet: None\\n    kimeneti típus: List\\n'"
     },
     "execution_count": 14,
     "metadata": {},
     "output_type": "execute_result"
    }
   ],
   "source": [
    "\"\"\"\n",
    "1., Hozzan létre egy új osztályt aminek a neve LaplaceDistribution. Definiáljon benne a __init__ nevű függvényt, amelynek bemenetként kap egy véletlenszám generátort, és az eloszlás várható értékét (location) és             varianciáját (scale), amely értékeket adattagokba ment le.\n",
    "    Osztály név: LaplaceDistribution\n",
    "    függvény név: __init__\n",
    "    bemenet: self, rand, loc, scale\n",
    "    link: https://en.wikipedia.org/wiki/Laplace_distribution\n",
    " \n",
    "2., Egészítse ki a LaplaceDistribution osztályt egy új függvénnyel, amely loc várható értékű, scale varianciájú és asymmmetry ferdeségű  aszimmetrikus laplace eloszlás eloszlásfüggvényéből rendel valószínűségi értéket a     bemeneti x valós számhoz.\n",
    "    függvény név: pdf\n",
    "    bemenet: x\n",
    "    kimeneti típus: float\n",
    " \n",
    "3., Egészítse ki a LaplaceDistribution osztályt egy új függvénnyel, amely megvalósítja az eloszlás kumulatív eloszlás függvényét.\n",
    "    függvény név: cdf\n",
    "    bemenet: x\n",
    "    kimeneti típus: float\n",
    "    \n",
    "4., Egészítse ki a LaplaceDistribution osztályt egy új függvénnyel, amely implementálja az eloszlás inverz kumulatív eloszlás függvényét\n",
    "    függvény név: ppf\n",
    "    bemenet: p\n",
    "    kimeneti típus: float\n",
    " \n",
    "5., Egészítse ki a LaplaceDistribution osztályt egy új függvénnyel, amely az osztály létrehozásánál megadott paraméterek mellett, aszimmetrikus laplace eloszlású véletlen számokat generál minden meghívásnál\n",
    "    függvény név: gen_random\n",
    "    bemenet: None\n",
    "    kimeneti típus: float\n",
    " \n",
    "6., Egészítse ki a LaplaceDistribution osztályt egy új függvénnyel, amely visszaadja az eloszlás függvény várható értékét. Ha az eloszlásnak nincsen ilyen értéke, akkor return helyett hívja meg a raise Exception(\"Moment     undefined\") parancsot.\n",
    "    függvény név: mean\n",
    "    bemenet: None\n",
    "    kimeneti típus: float\n",
    " \n",
    "7., Egészítse ki a LaplaceDistribution osztályt egy új függvénnyel, amely visszaadja az eloszlás függvény varianciáját. Ha az eloszlásnak nincsen ilyen értéke, akkor return helyett hívja meg a raise Exception(\"Moment        undefined\") parancsot.\n",
    "    függvény név: variance\n",
    "    bemenet: None\n",
    "    kimeneti típus: float\n",
    " \n",
    "8., Egészítse ki a LaplaceDistribution osztályt egy új függvénnyel, amely visszaadja az eloszlás függvény ferdeségét. Ha az eloszlásnak nincsen ilyen értéke, akkor return helyett hívja meg a raise Exception(\"Moment          undefined\") parancsot.\n",
    "    függvény név: skewness\n",
    "    bemenet: None\n",
    "    kimeneti típus: float\n",
    " \n",
    "9., Egészítse ki a LaplaceDistribution osztályt egy új függvénnyel, amely visszaadja az eloszlás függvény többlet csúcsosságát. Ha az eloszlásnak nincsen ilyen értéke, akkor return helyett hívja meg a raise Exception        (\"Moment undefined\") parancsot.\n",
    "    függvény név: ex_kurtosis\n",
    "    bemenet: None\n",
    "    kimeneti típus: float\n",
    "\n",
    "10., Egészítse ki a LaplaceDistribution osztályt egy új függvénnyel, amely visszaadja az eloszlás függvény első momentumát, a 2. és 3. cetrális momentumát, és a többlet csúcsosságot.. Ha az eloszlásnak nincsenek ilyen       értékei, akkor return helyett hívja meg a raise Exception(\"Moment undefined\") parancsot.\n",
    "    függvény név: mvsk\n",
    "    bemenet: None\n",
    "    kimeneti típus: List\n",
    "\"\"\""
   ],
   "metadata": {
    "collapsed": false,
    "ExecuteTime": {
     "end_time": "2023-09-27T18:26:04.439659Z",
     "start_time": "2023-09-27T18:26:04.329295600Z"
    }
   },
   "id": "162de76c827fd784"
  },
  {
   "cell_type": "code",
   "execution_count": 3,
   "outputs": [
    {
     "ename": "NameError",
     "evalue": "name 'List' is not defined",
     "output_type": "error",
     "traceback": [
      "\u001B[1;31m---------------------------------------------------------------------------\u001B[0m",
      "\u001B[1;31mNameError\u001B[0m                                 Traceback (most recent call last)",
      "Cell \u001B[1;32mIn[3], line 4\u001B[0m\n\u001B[0;32m      1\u001B[0m \u001B[38;5;28;01mimport\u001B[39;00m \u001B[38;5;21;01mrandom\u001B[39;00m\n\u001B[0;32m      2\u001B[0m \u001B[38;5;28;01mimport\u001B[39;00m \u001B[38;5;21;01mmath\u001B[39;00m\n\u001B[1;32m----> 4\u001B[0m \u001B[38;5;28;01mclass\u001B[39;00m \u001B[38;5;21;01mLaplaceDistribution\u001B[39;00m:\n\u001B[0;32m      5\u001B[0m     \u001B[38;5;28;01mdef\u001B[39;00m \u001B[38;5;21m__init__\u001B[39m(\u001B[38;5;28mself\u001B[39m, rand: random\u001B[38;5;241m.\u001B[39mRandom, loc: \u001B[38;5;28mfloat\u001B[39m, scale: \u001B[38;5;28mfloat\u001B[39m):\n\u001B[0;32m      6\u001B[0m         \u001B[38;5;28mself\u001B[39m\u001B[38;5;241m.\u001B[39mrand \u001B[38;5;241m=\u001B[39m rand\n",
      "Cell \u001B[1;32mIn[3], line 45\u001B[0m, in \u001B[0;36mLaplaceDistribution\u001B[1;34m()\u001B[0m\n\u001B[0;32m     42\u001B[0m \u001B[38;5;28;01mdef\u001B[39;00m \u001B[38;5;21mex_kurtosis\u001B[39m(\u001B[38;5;28mself\u001B[39m) \u001B[38;5;241m-\u001B[39m\u001B[38;5;241m>\u001B[39m \u001B[38;5;28mfloat\u001B[39m:\n\u001B[0;32m     43\u001B[0m     \u001B[38;5;28;01mreturn\u001B[39;00m \u001B[38;5;241m3.0\u001B[39m\n\u001B[1;32m---> 45\u001B[0m \u001B[38;5;28;01mdef\u001B[39;00m \u001B[38;5;21mmvsk\u001B[39m(\u001B[38;5;28mself\u001B[39m) \u001B[38;5;241m-\u001B[39m\u001B[38;5;241m>\u001B[39m \u001B[43mList\u001B[49m[\u001B[38;5;28mfloat\u001B[39m]:\n\u001B[0;32m     46\u001B[0m     \u001B[38;5;28;01mreturn\u001B[39;00m [\u001B[38;5;28mself\u001B[39m\u001B[38;5;241m.\u001B[39mmean(), \u001B[38;5;28mself\u001B[39m\u001B[38;5;241m.\u001B[39mvariance(), \u001B[38;5;28mself\u001B[39m\u001B[38;5;241m.\u001B[39mskewness(), \u001B[38;5;28mself\u001B[39m\u001B[38;5;241m.\u001B[39mex_kurtosis()]\n",
      "\u001B[1;31mNameError\u001B[0m: name 'List' is not defined"
     ]
    }
   ],
   "source": [
    "import random\n",
    "import math\n",
    "\n",
    "class LaplaceDistribution:\n",
    "    def __init__(self, rand: random.Random, loc: float, scale: float):\n",
    "        self.rand = rand\n",
    "        self.loc = loc\n",
    "        self.scale = scale\n",
    "\n",
    "    def pdf(self, x: float) -> float:\n",
    "        return 0.5 * math.exp(-abs(x - self.loc) / self.scale) / self.scale\n",
    "\n",
    "    def cdf(self, x: float) -> float:\n",
    "        if x < self.loc:\n",
    "            return 0.5 * math.exp((x - self.loc) / self.scale)\n",
    "        else:\n",
    "            return 1 - 0.5 * math.exp(-(x - self.loc) / self.scale)\n",
    "\n",
    "    def ppf(self, p: float) -> float:\n",
    "        if p < 0 or p > 1:\n",
    "            raise ValueError(\"Probability value must be in [0, 1]\")\n",
    "        if p < 0.5:\n",
    "            return self.loc + self.scale * math.log(2 * p)\n",
    "        elif p == 0.5:\n",
    "            return self.loc\n",
    "        else:\n",
    "            return self.loc - self.scale * math.log(2 - 2 * p)\n",
    "\n",
    "    def gen_random(self) -> float:\n",
    "        u = self.rand.random()\n",
    "        return self.loc - self.scale * math.copysign(math.log(1 - 2 * u), self.rand.random() - 0.5)\n",
    "    \n",
    "    def mean(self) -> float:\n",
    "        return self.loc\n",
    "\n",
    "    def variance(self) -> float:\n",
    "        return 2 * self.scale ** 2\n",
    "\n",
    "    def skewness(self) -> float:\n",
    "        return 0.0\n",
    "\n",
    "    def ex_kurtosis(self) -> float:\n",
    "        return 3.0\n",
    "\n",
    "    def mvsk(self) -> List[float]:\n",
    "        return [self.mean(), self.variance(), self.skewness(), self.ex_kurtosis()]\n"
   ],
   "metadata": {
    "collapsed": false,
    "ExecuteTime": {
     "end_time": "2023-10-07T11:31:46.481288800Z",
     "start_time": "2023-10-07T11:31:46.412454600Z"
    }
   },
   "id": "a4dd5c90f0859abb"
  },
  {
   "cell_type": "code",
   "execution_count": 14,
   "outputs": [],
   "source": [],
   "metadata": {
    "collapsed": false,
    "ExecuteTime": {
     "end_time": "2023-09-27T18:26:04.439659Z",
     "start_time": "2023-09-27T18:26:04.360535300Z"
    }
   },
   "id": "d5c8864e7cd18478"
  },
  {
   "cell_type": "code",
   "execution_count": 15,
   "outputs": [
    {
     "data": {
      "text/plain": "'\\n11., Hozzan létre egy új osztályt aminek a neve ParetoDistribution. Definiáljon benne a __init__ nevű függvényt, amelynek bemenetként kap egy véletlenszám generátort, és az eloszlás skála paraméterét (scale) és alak         paraméterét (shape), amely értékeket adattagokba ment le.\\n    Osztály név: ParetoDistribution\\n    függvény név: __init__\\n    bemenet: self, rand, scale, shape\\n    link: https://en.wikipedia.org/wiki/Pareto_distribution\\n    help: https://www.wolframalpha.com/input?i=pareto+distribution+k%3D1+alpha+%3D+2.1\\n \\n12., Egészítse ki a ParetoDistribution osztályt egy új függvénnyel, amely loc várható értékű, scale varianciájú és asymmmetry ferdeségű  aszimmetrikus laplace eloszlás eloszlásfüggvényéből rendel valószínűségi értéket a     bemeneti x valós számhoz.\\n    függvény név: pdf\\n    bemenet: x\\n    kimeneti típus: float\\n \\n13., Egészítse ki a ParetoDistribution osztályt egy új függvénnyel, amely megvalósítja az eloszlás kumulatív eloszlás függvényét.\\n    függvény név: cdf\\n    bemenet: x\\n    kimeneti típus: float\\n \\n14., Egészítse ki a ParetoDistribution osztályt egy új függvénnyel, amely implementálja az eloszlás inverz kumulatív eloszlás függvényét\\n    függvény név: ppf\\n    bemenet: p\\n    kimeneti típus: float\\n \\n15., Egészítse ki a ParetoDistribution osztályt egy új függvénnyel, amely az osztály létrehozásánál megadott paraméterek mellett, aszimmetrikus laplace eloszlású véletlen számokat generál minden meghívásnál\\n    függvény név: gen_random\\n    bemenet: None\\n    kimeneti típus: float\\n    \\n \\n16., Egészítse ki a ParetoDistribution osztályt egy új függvénnyel, amely visszaadja az eloszlás függvény várható értékét. Ha az eloszlásnak nincsen ilyen értéke, akkor return helyett hívja meg a raise Exception(\"Moment     undefined\") parancsot.\\n    függvény név: mean\\n    bemenet: None\\n    kimeneti típus: float\\n \\n17., Egészítse ki a ParetoDistribution osztályt egy új függvénnyel, amely visszaadja az eloszlás függvény varianciáját.  Ha az eloszlásnak nincsen ilyen értéke, akkor return helyett hívja meg a raise Exception(\"Moment       undefined\") parancsot.\\n    függvény név: variance\\n    bemenet: None\\n    kimeneti típus: float\\n \\n18., Egészítse ki a ParetoDistribution osztályt egy új függvénnyel, amely visszaadja az eloszlás függvény ferdeségét.  Ha az eloszlásnak nincsen ilyen értéke, akkor return helyett hívja meg a raise Exception(\"Moment         undefined\") parancsot.\\n    függvény név: skewness\\n    bemenet: None\\n    kimeneti típus: float\\n \\n19., Egészítse ki a ParetoDistribution osztályt egy új függvénnyel, amely visszaadja az eloszlás függvény többlet csúcsosságát.  Ha az eloszlásnak nincsen ilyen értéke, akkor return helyett hívja meg a raise Exception       (\"Moment undefined\") parancsot.\\n    függvény név: ex_kurtosis\\n    bemenet: None\\n    kimeneti típus: float\\n\\n20., Egészítse ki a ParetoDistribution osztályt egy új függvénnyel, amely visszaadja az eloszlás függvény első momentumát, a 2. és 3. cetrális momentumát, és a többlet csúcsosságot.  Ha az eloszlásnak nincsenek ilyen        értékei, akkor return helyett hívja meg a raise Exception(\"Moment undefined\") parancsot.\\n    függvény név: mvsk\\n    bemenet: None\\n    kimeneti típus: List\\n'"
     },
     "execution_count": 15,
     "metadata": {},
     "output_type": "execute_result"
    }
   ],
   "source": [
    "\"\"\"\n",
    "11., Hozzan létre egy új osztályt aminek a neve ParetoDistribution. Definiáljon benne a __init__ nevű függvényt, amelynek bemenetként kap egy véletlenszám generátort, és az eloszlás skála paraméterét (scale) és alak         paraméterét (shape), amely értékeket adattagokba ment le.\n",
    "    Osztály név: ParetoDistribution\n",
    "    függvény név: __init__\n",
    "    bemenet: self, rand, scale, shape\n",
    "    link: https://en.wikipedia.org/wiki/Pareto_distribution\n",
    "    help: https://www.wolframalpha.com/input?i=pareto+distribution+k%3D1+alpha+%3D+2.1\n",
    " \n",
    "12., Egészítse ki a ParetoDistribution osztályt egy új függvénnyel, amely loc várható értékű, scale varianciájú és asymmmetry ferdeségű  aszimmetrikus laplace eloszlás eloszlásfüggvényéből rendel valószínűségi értéket a     bemeneti x valós számhoz.\n",
    "    függvény név: pdf\n",
    "    bemenet: x\n",
    "    kimeneti típus: float\n",
    " \n",
    "13., Egészítse ki a ParetoDistribution osztályt egy új függvénnyel, amely megvalósítja az eloszlás kumulatív eloszlás függvényét.\n",
    "    függvény név: cdf\n",
    "    bemenet: x\n",
    "    kimeneti típus: float\n",
    " \n",
    "14., Egészítse ki a ParetoDistribution osztályt egy új függvénnyel, amely implementálja az eloszlás inverz kumulatív eloszlás függvényét\n",
    "    függvény név: ppf\n",
    "    bemenet: p\n",
    "    kimeneti típus: float\n",
    " \n",
    "15., Egészítse ki a ParetoDistribution osztályt egy új függvénnyel, amely az osztály létrehozásánál megadott paraméterek mellett, aszimmetrikus laplace eloszlású véletlen számokat generál minden meghívásnál\n",
    "    függvény név: gen_random\n",
    "    bemenet: None\n",
    "    kimeneti típus: float\n",
    "    \n",
    " \n",
    "16., Egészítse ki a ParetoDistribution osztályt egy új függvénnyel, amely visszaadja az eloszlás függvény várható értékét. Ha az eloszlásnak nincsen ilyen értéke, akkor return helyett hívja meg a raise Exception(\"Moment     undefined\") parancsot.\n",
    "    függvény név: mean\n",
    "    bemenet: None\n",
    "    kimeneti típus: float\n",
    " \n",
    "17., Egészítse ki a ParetoDistribution osztályt egy új függvénnyel, amely visszaadja az eloszlás függvény varianciáját.  Ha az eloszlásnak nincsen ilyen értéke, akkor return helyett hívja meg a raise Exception(\"Moment       undefined\") parancsot.\n",
    "    függvény név: variance\n",
    "    bemenet: None\n",
    "    kimeneti típus: float\n",
    " \n",
    "18., Egészítse ki a ParetoDistribution osztályt egy új függvénnyel, amely visszaadja az eloszlás függvény ferdeségét.  Ha az eloszlásnak nincsen ilyen értéke, akkor return helyett hívja meg a raise Exception(\"Moment         undefined\") parancsot.\n",
    "    függvény név: skewness\n",
    "    bemenet: None\n",
    "    kimeneti típus: float\n",
    " \n",
    "19., Egészítse ki a ParetoDistribution osztályt egy új függvénnyel, amely visszaadja az eloszlás függvény többlet csúcsosságát.  Ha az eloszlásnak nincsen ilyen értéke, akkor return helyett hívja meg a raise Exception       (\"Moment undefined\") parancsot.\n",
    "    függvény név: ex_kurtosis\n",
    "    bemenet: None\n",
    "    kimeneti típus: float\n",
    "\n",
    "20., Egészítse ki a ParetoDistribution osztályt egy új függvénnyel, amely visszaadja az eloszlás függvény első momentumát, a 2. és 3. cetrális momentumát, és a többlet csúcsosságot.  Ha az eloszlásnak nincsenek ilyen        értékei, akkor return helyett hívja meg a raise Exception(\"Moment undefined\") parancsot.\n",
    "    függvény név: mvsk\n",
    "    bemenet: None\n",
    "    kimeneti típus: List\n",
    "\"\"\""
   ],
   "metadata": {
    "collapsed": false,
    "ExecuteTime": {
     "end_time": "2023-09-27T18:26:04.439659Z",
     "start_time": "2023-09-27T18:26:04.376159900Z"
    }
   },
   "id": "e39a217d9c9cf8df"
  },
  {
   "cell_type": "code",
   "execution_count": 1,
   "outputs": [],
   "source": [
    "import random\n",
    "import math\n",
    "\n",
    "class ParetoDistribution:\n",
    "    def __init__(self, rand, scale, shape):\n",
    "        self.rand = rand\n",
    "        self.scale = scale\n",
    "        self.shape = shape\n",
    "\n",
    "    def pdf(self, x):\n",
    "        if x < self.scale:\n",
    "            return 0\n",
    "        return (self.shape * self.scale**self.shape) / (x**(self.shape + 1))\n",
    "\n",
    "    def cdf(self, x):\n",
    "        if x < self.scale:\n",
    "            return 0\n",
    "        return 1 - (self.scale/x)**self.shape\n",
    "\n",
    "    def ppf(self, p):\n",
    "        if p < 0 or p > 1:\n",
    "            raise ValueError(\"p must be between 0 and 1\")\n",
    "        return self.scale / (1 - p**(1/self.shape))\n",
    "\n",
    "    def gen_random(self):\n",
    "        u = self.rand.random()\n",
    "        return self.ppf(u)\n",
    "\n",
    "    def mean(self):\n",
    "        if self.shape <= 1:\n",
    "            raise Exception(\"Moment undefined\")\n",
    "        return (self.shape * self.scale) / (self.shape - 1)\n",
    "\n",
    "    def variance(self):\n",
    "        if self.shape <= 2:\n",
    "            raise Exception(\"Moment undefined\")\n",
    "        return (self.scale**2 * self.shape) / ((self.shape - 1)**2 * (self.shape - 2))\n",
    "\n",
    "    def skewness(self):\n",
    "        if self.shape <= 3:\n",
    "            raise Exception(\"Moment undefined\")\n",
    "        return (2 * (1 + self.shape)) / ((self.shape - 3) * math.sqrt(self.shape - 2))\n",
    "\n",
    "    def ex_kurtosis(self):\n",
    "        if self.shape <= 4:\n",
    "            raise Exception(\"Moment undefined\")\n",
    "        return 6 * ((self.shape**3 + 3 * self.shape**2 - 6) / ((self.shape - 4) * (self.shape - 3)))\n",
    "\n",
    "    def mvsk(self):\n",
    "        if self.shape <= 4:\n",
    "            raise Exception(\"Moment undefined\")\n",
    "        return [self.mean(), self.variance(), self.skewness(), self.ex_kurtosis()]\n",
    "\n",
    "\n"
   ],
   "metadata": {
    "collapsed": false,
    "ExecuteTime": {
     "end_time": "2023-10-07T11:29:48.612173600Z",
     "start_time": "2023-10-07T11:29:48.600853600Z"
    }
   },
   "id": "e13cbf4d47d837f5"
  },
  {
   "cell_type": "code",
   "execution_count": 2,
   "outputs": [
    {
     "name": "stdout",
     "output_type": "stream",
     "text": [
      "Random érték generálása: 9.200491813553015\n",
      "Eloszlásfüggvény értéke: 0.24492116027841196\n",
      "Kumulatív eloszlásfüggvény értéke: 0.7667417521157982\n",
      "Inverz kumulatív eloszlásfüggvény értéke: 3.5571156112585425\n",
      "Várható érték: 1.909090909090909\n",
      "Variancia: 17.35537190082643\n"
     ]
    },
    {
     "ename": "Exception",
     "evalue": "Moment undefined",
     "output_type": "error",
     "traceback": [
      "\u001B[1;31m---------------------------------------------------------------------------\u001B[0m",
      "\u001B[1;31mException\u001B[0m                                 Traceback (most recent call last)",
      "Cell \u001B[1;32mIn[2], line 12\u001B[0m\n\u001B[0;32m     10\u001B[0m \u001B[38;5;28mprint\u001B[39m(\u001B[38;5;124m\"\u001B[39m\u001B[38;5;124mVárható érték:\u001B[39m\u001B[38;5;124m\"\u001B[39m, pareto\u001B[38;5;241m.\u001B[39mmean())\n\u001B[0;32m     11\u001B[0m \u001B[38;5;28mprint\u001B[39m(\u001B[38;5;124m\"\u001B[39m\u001B[38;5;124mVariancia:\u001B[39m\u001B[38;5;124m\"\u001B[39m, pareto\u001B[38;5;241m.\u001B[39mvariance())\n\u001B[1;32m---> 12\u001B[0m \u001B[38;5;28mprint\u001B[39m(\u001B[38;5;124m\"\u001B[39m\u001B[38;5;124mFerdeség:\u001B[39m\u001B[38;5;124m\"\u001B[39m, \u001B[43mpareto\u001B[49m\u001B[38;5;241;43m.\u001B[39;49m\u001B[43mskewness\u001B[49m\u001B[43m(\u001B[49m\u001B[43m)\u001B[49m)\n\u001B[0;32m     13\u001B[0m \u001B[38;5;28mprint\u001B[39m(\u001B[38;5;124m\"\u001B[39m\u001B[38;5;124mTöbblet csúcsosság:\u001B[39m\u001B[38;5;124m\"\u001B[39m, pareto\u001B[38;5;241m.\u001B[39mex_kurtosis())\n\u001B[0;32m     14\u001B[0m \u001B[38;5;28mprint\u001B[39m(\u001B[38;5;124m\"\u001B[39m\u001B[38;5;124mMomentumok:\u001B[39m\u001B[38;5;124m\"\u001B[39m, pareto\u001B[38;5;241m.\u001B[39mmvsk())\n",
      "Cell \u001B[1;32mIn[1], line 41\u001B[0m, in \u001B[0;36mParetoDistribution.skewness\u001B[1;34m(self)\u001B[0m\n\u001B[0;32m     39\u001B[0m \u001B[38;5;28;01mdef\u001B[39;00m \u001B[38;5;21mskewness\u001B[39m(\u001B[38;5;28mself\u001B[39m):\n\u001B[0;32m     40\u001B[0m     \u001B[38;5;28;01mif\u001B[39;00m \u001B[38;5;28mself\u001B[39m\u001B[38;5;241m.\u001B[39mshape \u001B[38;5;241m<\u001B[39m\u001B[38;5;241m=\u001B[39m \u001B[38;5;241m3\u001B[39m:\n\u001B[1;32m---> 41\u001B[0m         \u001B[38;5;28;01mraise\u001B[39;00m \u001B[38;5;167;01mException\u001B[39;00m(\u001B[38;5;124m\"\u001B[39m\u001B[38;5;124mMoment undefined\u001B[39m\u001B[38;5;124m\"\u001B[39m)\n\u001B[0;32m     42\u001B[0m     \u001B[38;5;28;01mreturn\u001B[39;00m (\u001B[38;5;241m2\u001B[39m \u001B[38;5;241m*\u001B[39m (\u001B[38;5;241m1\u001B[39m \u001B[38;5;241m+\u001B[39m \u001B[38;5;28mself\u001B[39m\u001B[38;5;241m.\u001B[39mshape)) \u001B[38;5;241m/\u001B[39m ((\u001B[38;5;28mself\u001B[39m\u001B[38;5;241m.\u001B[39mshape \u001B[38;5;241m-\u001B[39m \u001B[38;5;241m3\u001B[39m) \u001B[38;5;241m*\u001B[39m math\u001B[38;5;241m.\u001B[39msqrt(\u001B[38;5;28mself\u001B[39m\u001B[38;5;241m.\u001B[39mshape \u001B[38;5;241m-\u001B[39m \u001B[38;5;241m2\u001B[39m))\n",
      "\u001B[1;31mException\u001B[0m: Moment undefined"
     ]
    }
   ],
   "source": [
    "# Tesztelés\n",
    "random_gen = random.Random()\n",
    "scale_param = 1\n",
    "shape_param = 2.1\n",
    "pareto = ParetoDistribution(random_gen, scale_param, shape_param)\n",
    "print(\"Random érték generálása:\", pareto.gen_random())\n",
    "print(\"Eloszlásfüggvény értéke:\", pareto.pdf(2))\n",
    "print(\"Kumulatív eloszlásfüggvény értéke:\", pareto.cdf(2))\n",
    "print(\"Inverz kumulatív eloszlásfüggvény értéke:\", pareto.ppf(0.5))\n",
    "print(\"Várható érték:\", pareto.mean())\n",
    "print(\"Variancia:\", pareto.variance())\n",
    "print(\"Ferdeség:\", pareto.skewness())\n",
    "print(\"Többlet csúcsosság:\", pareto.ex_kurtosis())\n",
    "print(\"Momentumok:\", pareto.mvsk())"
   ],
   "metadata": {
    "collapsed": false,
    "ExecuteTime": {
     "end_time": "2023-10-07T11:29:49.719718600Z",
     "start_time": "2023-10-07T11:29:49.256677100Z"
    }
   },
   "id": "baf80fe79cd87979"
  },
  {
   "cell_type": "code",
   "execution_count": null,
   "outputs": [],
   "source": [],
   "metadata": {
    "collapsed": false
   },
   "id": "879e2c1ee74ce933"
  }
 ],
 "metadata": {
  "kernelspec": {
   "display_name": "Python 3",
   "language": "python",
   "name": "python3"
  },
  "language_info": {
   "codemirror_mode": {
    "name": "ipython",
    "version": 2
   },
   "file_extension": ".py",
   "mimetype": "text/x-python",
   "name": "python",
   "nbconvert_exporter": "python",
   "pygments_lexer": "ipython2",
   "version": "2.7.6"
  }
 },
 "nbformat": 4,
 "nbformat_minor": 5
}
