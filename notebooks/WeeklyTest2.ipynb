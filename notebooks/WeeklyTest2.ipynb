{
 "cells": [
  {
   "cell_type": "markdown",
   "source": [
    "## A feladatok megoldása során csak a random, typing, math és pyerf modulok importálása elfogadott"
   ],
   "metadata": {
    "collapsed": false
   },
   "id": "922e7680b9ef8e9f"
  },
  {
   "cell_type": "markdown",
   "source": [
    "### A teszt feladatok megoldását mentse src/utils modul-ba a weekly_test_2.py nevű fájlba"
   ],
   "metadata": {
    "collapsed": false
   },
   "id": "acdbadded73f891"
  },
  {
   "cell_type": "code",
   "execution_count": 14,
   "outputs": [
    {
     "data": {
      "text/plain": "'\\n1., Hozzan létre egy új osztályt aminek a neve LaplaceDistribution. Definiáljon benne a __init__ nevű függvényt, amelynek bemenetként kap egy véletlenszám generátort, és az eloszlás várható értékét (location) és             varianciáját (scale), amely értékeket adattagokba ment le.\\n    Osztály név: LaplaceDistribution\\n    függvény név: __init__\\n    bemenet: self, rand, loc, scale\\n    link: https://en.wikipedia.org/wiki/Laplace_distribution\\n \\n2., Egészítse ki a LaplaceDistribution osztályt egy új függvénnyel, amely loc várható értékű, scale varianciájú és asymmmetry ferdeségű  aszimmetrikus laplace eloszlás eloszlásfüggvényéből rendel valószínűségi értéket a     bemeneti x valós számhoz.\\n    függvény név: pdf\\n    bemenet: x\\n    kimeneti típus: float\\n \\n3., Egészítse ki a LaplaceDistribution osztályt egy új függvénnyel, amely megvalósítja az eloszlás kumulatív eloszlás függvényét.\\n    függvény név: cdf\\n    bemenet: x\\n    kimeneti típus: float\\n    \\n4., Egészítse ki a LaplaceDistribution osztályt egy új függvénnyel, amely implementálja az eloszlás inverz kumulatív eloszlás függvényét\\n    függvény név: ppf\\n    bemenet: p\\n    kimeneti típus: float\\n \\n5., Egészítse ki a LaplaceDistribution osztályt egy új függvénnyel, amely az osztály létrehozásánál megadott paraméterek mellett, aszimmetrikus laplace eloszlású véletlen számokat generál minden meghívásnál\\n    függvény név: gen_random\\n    bemenet: None\\n    kimeneti típus: float\\n \\n6., Egészítse ki a LaplaceDistribution osztályt egy új függvénnyel, amely visszaadja az eloszlás függvény várható értékét. Ha az eloszlásnak nincsen ilyen értéke, akkor return helyett hívja meg a raise Exception(\"Moment     undefined\") parancsot.\\n    függvény név: mean\\n    bemenet: None\\n    kimeneti típus: float\\n \\n7., Egészítse ki a LaplaceDistribution osztályt egy új függvénnyel, amely visszaadja az eloszlás függvény varianciáját. Ha az eloszlásnak nincsen ilyen értéke, akkor return helyett hívja meg a raise Exception(\"Moment        undefined\") parancsot.\\n    függvény név: variance\\n    bemenet: None\\n    kimeneti típus: float\\n \\n8., Egészítse ki a LaplaceDistribution osztályt egy új függvénnyel, amely visszaadja az eloszlás függvény ferdeségét. Ha az eloszlásnak nincsen ilyen értéke, akkor return helyett hívja meg a raise Exception(\"Moment          undefined\") parancsot.\\n    függvény név: skewness\\n    bemenet: None\\n    kimeneti típus: float\\n \\n9., Egészítse ki a LaplaceDistribution osztályt egy új függvénnyel, amely visszaadja az eloszlás függvény többlet csúcsosságát. Ha az eloszlásnak nincsen ilyen értéke, akkor return helyett hívja meg a raise Exception        (\"Moment undefined\") parancsot.\\n    függvény név: ex_kurtosis\\n    bemenet: None\\n    kimeneti típus: float\\n\\n10., Egészítse ki a LaplaceDistribution osztályt egy új függvénnyel, amely visszaadja az eloszlás függvény első momentumát, a 2. és 3. cetrális momentumát, és a többlet csúcsosságot.. Ha az eloszlásnak nincsenek ilyen       értékei, akkor return helyett hívja meg a raise Exception(\"Moment undefined\") parancsot.\\n    függvény név: mvsk\\n    bemenet: None\\n    kimeneti típus: List\\n'"
     },
     "execution_count": 14,
     "metadata": {},
     "output_type": "execute_result"
    }
   ],
   "source": [
    "\"\"\"\n",
    "1., Hozzan létre egy új osztályt aminek a neve LaplaceDistribution. Definiáljon benne a __init__ nevű függvényt, amelynek bemenetként kap egy véletlenszám generátort, és az eloszlás várható értékét (location) és             varianciáját (scale), amely értékeket adattagokba ment le.\n",
    "    Osztály név: LaplaceDistribution\n",
    "    függvény név: __init__\n",
    "    bemenet: self, rand, loc, scale\n",
    "    link: https://en.wikipedia.org/wiki/Laplace_distribution\n",
    " \n",
    "2., Egészítse ki a LaplaceDistribution osztályt egy új függvénnyel, amely loc várható értékű, scale varianciájú és asymmmetry ferdeségű  aszimmetrikus laplace eloszlás eloszlásfüggvényéből rendel valószínűségi értéket a     bemeneti x valós számhoz.\n",
    "    függvény név: pdf\n",
    "    bemenet: x\n",
    "    kimeneti típus: float\n",
    " \n",
    "3., Egészítse ki a LaplaceDistribution osztályt egy új függvénnyel, amely megvalósítja az eloszlás kumulatív eloszlás függvényét.\n",
    "    függvény név: cdf\n",
    "    bemenet: x\n",
    "    kimeneti típus: float\n",
    "    \n",
    "4., Egészítse ki a LaplaceDistribution osztályt egy új függvénnyel, amely implementálja az eloszlás inverz kumulatív eloszlás függvényét\n",
    "    függvény név: ppf\n",
    "    bemenet: p\n",
    "    kimeneti típus: float\n",
    " \n",
    "5., Egészítse ki a LaplaceDistribution osztályt egy új függvénnyel, amely az osztály létrehozásánál megadott paraméterek mellett, aszimmetrikus laplace eloszlású véletlen számokat generál minden meghívásnál\n",
    "    függvény név: gen_random\n",
    "    bemenet: None\n",
    "    kimeneti típus: float\n",
    " \n",
    "6., Egészítse ki a LaplaceDistribution osztályt egy új függvénnyel, amely visszaadja az eloszlás függvény várható értékét. Ha az eloszlásnak nincsen ilyen értéke, akkor return helyett hívja meg a raise Exception(\"Moment     undefined\") parancsot.\n",
    "    függvény név: mean\n",
    "    bemenet: None\n",
    "    kimeneti típus: float\n",
    " \n",
    "7., Egészítse ki a LaplaceDistribution osztályt egy új függvénnyel, amely visszaadja az eloszlás függvény varianciáját. Ha az eloszlásnak nincsen ilyen értéke, akkor return helyett hívja meg a raise Exception(\"Moment        undefined\") parancsot.\n",
    "    függvény név: variance\n",
    "    bemenet: None\n",
    "    kimeneti típus: float\n",
    " \n",
    "8., Egészítse ki a LaplaceDistribution osztályt egy új függvénnyel, amely visszaadja az eloszlás függvény ferdeségét. Ha az eloszlásnak nincsen ilyen értéke, akkor return helyett hívja meg a raise Exception(\"Moment          undefined\") parancsot.\n",
    "    függvény név: skewness\n",
    "    bemenet: None\n",
    "    kimeneti típus: float\n",
    " \n",
    "9., Egészítse ki a LaplaceDistribution osztályt egy új függvénnyel, amely visszaadja az eloszlás függvény többlet csúcsosságát. Ha az eloszlásnak nincsen ilyen értéke, akkor return helyett hívja meg a raise Exception        (\"Moment undefined\") parancsot.\n",
    "    függvény név: ex_kurtosis\n",
    "    bemenet: None\n",
    "    kimeneti típus: float\n",
    "\n",
    "10., Egészítse ki a LaplaceDistribution osztályt egy új függvénnyel, amely visszaadja az eloszlás függvény első momentumát, a 2. és 3. cetrális momentumát, és a többlet csúcsosságot.. Ha az eloszlásnak nincsenek ilyen       értékei, akkor return helyett hívja meg a raise Exception(\"Moment undefined\") parancsot.\n",
    "    függvény név: mvsk\n",
    "    bemenet: None\n",
    "    kimeneti típus: List\n",
    "\"\"\""
   ],
   "metadata": {
    "collapsed": false,
    "ExecuteTime": {
     "end_time": "2023-09-27T18:26:04.439659Z",
     "start_time": "2023-09-27T18:26:04.329295600Z"
    }
   },
   "id": "162de76c827fd784"
  },
  {
   "cell_type": "code",
   "execution_count": 16,
   "outputs": [],
   "source": [
    "import random\n",
    "import math\n",
    "\n",
    "class LaplaceDistribution:\n",
    "    def __init__(self, rand: random.Random, loc: float, scale: float):\n",
    "        self.rand = rand\n",
    "        self.loc = loc\n",
    "        self.scale = scale\n",
    "\n",
    "    def pdf(self, x: float) -> float:\n",
    "        return 0.5 * math.exp(-abs(x - self.loc) / self.scale) / self.scale\n",
    "\n",
    "    def cdf(self, x: float) -> float:\n",
    "        if x < self.loc:\n",
    "            return 0.5 * math.exp((x - self.loc) / self.scale)\n",
    "        else:\n",
    "            return 1 - 0.5 * math.exp(-(x - self.loc) / self.scale)\n",
    "\n",
    "    def ppf(self, p: float) -> float:\n",
    "        if p < 0 or p > 1:\n",
    "            raise ValueError(\"Probability value must be in [0, 1]\")\n",
    "        if p < 0.5:\n",
    "            return self.loc + self.scale * math.log(2 * p)\n",
    "        elif p == 0.5:\n",
    "            return self.loc\n",
    "        else:\n",
    "            return self.loc - self.scale * math.log(2 - 2 * p)\n",
    "\n",
    "    def gen_random(self) -> float:\n",
    "        u = self.rand.random()\n",
    "        return self.loc - self.scale * math.copysign(math.log(1 - 2 * u), self.rand.random() - 0.5)\n",
    "    \n",
    "    def mean(self) -> float:\n",
    "        return self.loc\n",
    "\n",
    "    def variance(self) -> float:\n",
    "        return 2 * self.scale ** 2\n",
    "\n",
    "    def skewness(self) -> float:\n",
    "        return 0.0\n",
    "\n",
    "    def ex_kurtosis(self) -> float:\n",
    "        return 3.0\n",
    "\n",
    "    def mvsk(self) -> List[float]:\n",
    "        return [self.mean(), self.variance(), self.skewness(), self.ex_kurtosis()]\n"
   ],
   "metadata": {
    "collapsed": false,
    "ExecuteTime": {
     "end_time": "2023-09-27T18:29:27.396696400Z",
     "start_time": "2023-09-27T18:29:27.381047Z"
    }
   },
   "id": "a4dd5c90f0859abb"
  },
  {
   "cell_type": "code",
   "execution_count": 14,
   "outputs": [],
   "source": [],
   "metadata": {
    "collapsed": false,
    "ExecuteTime": {
     "end_time": "2023-09-27T18:26:04.439659Z",
     "start_time": "2023-09-27T18:26:04.360535300Z"
    }
   },
   "id": "d5c8864e7cd18478"
  },
  {
   "cell_type": "code",
   "execution_count": 15,
   "outputs": [
    {
     "data": {
      "text/plain": "'\\n11., Hozzan létre egy új osztályt aminek a neve ParetoDistribution. Definiáljon benne a __init__ nevű függvényt, amelynek bemenetként kap egy véletlenszám generátort, és az eloszlás skála paraméterét (scale) és alak         paraméterét (shape), amely értékeket adattagokba ment le.\\n    Osztály név: ParetoDistribution\\n    függvény név: __init__\\n    bemenet: self, rand, scale, shape\\n    link: https://en.wikipedia.org/wiki/Pareto_distribution\\n    help: https://www.wolframalpha.com/input?i=pareto+distribution+k%3D1+alpha+%3D+2.1\\n \\n12., Egészítse ki a ParetoDistribution osztályt egy új függvénnyel, amely loc várható értékű, scale varianciájú és asymmmetry ferdeségű  aszimmetrikus laplace eloszlás eloszlásfüggvényéből rendel valószínűségi értéket a     bemeneti x valós számhoz.\\n    függvény név: pdf\\n    bemenet: x\\n    kimeneti típus: float\\n \\n13., Egészítse ki a ParetoDistribution osztályt egy új függvénnyel, amely megvalósítja az eloszlás kumulatív eloszlás függvényét.\\n    függvény név: cdf\\n    bemenet: x\\n    kimeneti típus: float\\n \\n14., Egészítse ki a ParetoDistribution osztályt egy új függvénnyel, amely implementálja az eloszlás inverz kumulatív eloszlás függvényét\\n    függvény név: ppf\\n    bemenet: p\\n    kimeneti típus: float\\n \\n15., Egészítse ki a ParetoDistribution osztályt egy új függvénnyel, amely az osztály létrehozásánál megadott paraméterek mellett, aszimmetrikus laplace eloszlású véletlen számokat generál minden meghívásnál\\n    függvény név: gen_random\\n    bemenet: None\\n    kimeneti típus: float\\n    \\n \\n16., Egészítse ki a ParetoDistribution osztályt egy új függvénnyel, amely visszaadja az eloszlás függvény várható értékét. Ha az eloszlásnak nincsen ilyen értéke, akkor return helyett hívja meg a raise Exception(\"Moment     undefined\") parancsot.\\n    függvény név: mean\\n    bemenet: None\\n    kimeneti típus: float\\n \\n17., Egészítse ki a ParetoDistribution osztályt egy új függvénnyel, amely visszaadja az eloszlás függvény varianciáját.  Ha az eloszlásnak nincsen ilyen értéke, akkor return helyett hívja meg a raise Exception(\"Moment       undefined\") parancsot.\\n    függvény név: variance\\n    bemenet: None\\n    kimeneti típus: float\\n \\n18., Egészítse ki a ParetoDistribution osztályt egy új függvénnyel, amely visszaadja az eloszlás függvény ferdeségét.  Ha az eloszlásnak nincsen ilyen értéke, akkor return helyett hívja meg a raise Exception(\"Moment         undefined\") parancsot.\\n    függvény név: skewness\\n    bemenet: None\\n    kimeneti típus: float\\n \\n19., Egészítse ki a ParetoDistribution osztályt egy új függvénnyel, amely visszaadja az eloszlás függvény többlet csúcsosságát.  Ha az eloszlásnak nincsen ilyen értéke, akkor return helyett hívja meg a raise Exception       (\"Moment undefined\") parancsot.\\n    függvény név: ex_kurtosis\\n    bemenet: None\\n    kimeneti típus: float\\n\\n20., Egészítse ki a ParetoDistribution osztályt egy új függvénnyel, amely visszaadja az eloszlás függvény első momentumát, a 2. és 3. cetrális momentumát, és a többlet csúcsosságot.  Ha az eloszlásnak nincsenek ilyen        értékei, akkor return helyett hívja meg a raise Exception(\"Moment undefined\") parancsot.\\n    függvény név: mvsk\\n    bemenet: None\\n    kimeneti típus: List\\n'"
     },
     "execution_count": 15,
     "metadata": {},
     "output_type": "execute_result"
    }
   ],
   "source": [
    "\"\"\"\n",
    "11., Hozzan létre egy új osztályt aminek a neve ParetoDistribution. Definiáljon benne a __init__ nevű függvényt, amelynek bemenetként kap egy véletlenszám generátort, és az eloszlás skála paraméterét (scale) és alak         paraméterét (shape), amely értékeket adattagokba ment le.\n",
    "    Osztály név: ParetoDistribution\n",
    "    függvény név: __init__\n",
    "    bemenet: self, rand, scale, shape\n",
    "    link: https://en.wikipedia.org/wiki/Pareto_distribution\n",
    "    help: https://www.wolframalpha.com/input?i=pareto+distribution+k%3D1+alpha+%3D+2.1\n",
    " \n",
    "12., Egészítse ki a ParetoDistribution osztályt egy új függvénnyel, amely loc várható értékű, scale varianciájú és asymmmetry ferdeségű  aszimmetrikus laplace eloszlás eloszlásfüggvényéből rendel valószínűségi értéket a     bemeneti x valós számhoz.\n",
    "    függvény név: pdf\n",
    "    bemenet: x\n",
    "    kimeneti típus: float\n",
    " \n",
    "13., Egészítse ki a ParetoDistribution osztályt egy új függvénnyel, amely megvalósítja az eloszlás kumulatív eloszlás függvényét.\n",
    "    függvény név: cdf\n",
    "    bemenet: x\n",
    "    kimeneti típus: float\n",
    " \n",
    "14., Egészítse ki a ParetoDistribution osztályt egy új függvénnyel, amely implementálja az eloszlás inverz kumulatív eloszlás függvényét\n",
    "    függvény név: ppf\n",
    "    bemenet: p\n",
    "    kimeneti típus: float\n",
    " \n",
    "15., Egészítse ki a ParetoDistribution osztályt egy új függvénnyel, amely az osztály létrehozásánál megadott paraméterek mellett, aszimmetrikus laplace eloszlású véletlen számokat generál minden meghívásnál\n",
    "    függvény név: gen_random\n",
    "    bemenet: None\n",
    "    kimeneti típus: float\n",
    "    \n",
    " \n",
    "16., Egészítse ki a ParetoDistribution osztályt egy új függvénnyel, amely visszaadja az eloszlás függvény várható értékét. Ha az eloszlásnak nincsen ilyen értéke, akkor return helyett hívja meg a raise Exception(\"Moment     undefined\") parancsot.\n",
    "    függvény név: mean\n",
    "    bemenet: None\n",
    "    kimeneti típus: float\n",
    " \n",
    "17., Egészítse ki a ParetoDistribution osztályt egy új függvénnyel, amely visszaadja az eloszlás függvény varianciáját.  Ha az eloszlásnak nincsen ilyen értéke, akkor return helyett hívja meg a raise Exception(\"Moment       undefined\") parancsot.\n",
    "    függvény név: variance\n",
    "    bemenet: None\n",
    "    kimeneti típus: float\n",
    " \n",
    "18., Egészítse ki a ParetoDistribution osztályt egy új függvénnyel, amely visszaadja az eloszlás függvény ferdeségét.  Ha az eloszlásnak nincsen ilyen értéke, akkor return helyett hívja meg a raise Exception(\"Moment         undefined\") parancsot.\n",
    "    függvény név: skewness\n",
    "    bemenet: None\n",
    "    kimeneti típus: float\n",
    " \n",
    "19., Egészítse ki a ParetoDistribution osztályt egy új függvénnyel, amely visszaadja az eloszlás függvény többlet csúcsosságát.  Ha az eloszlásnak nincsen ilyen értéke, akkor return helyett hívja meg a raise Exception       (\"Moment undefined\") parancsot.\n",
    "    függvény név: ex_kurtosis\n",
    "    bemenet: None\n",
    "    kimeneti típus: float\n",
    "\n",
    "20., Egészítse ki a ParetoDistribution osztályt egy új függvénnyel, amely visszaadja az eloszlás függvény első momentumát, a 2. és 3. cetrális momentumát, és a többlet csúcsosságot.  Ha az eloszlásnak nincsenek ilyen        értékei, akkor return helyett hívja meg a raise Exception(\"Moment undefined\") parancsot.\n",
    "    függvény név: mvsk\n",
    "    bemenet: None\n",
    "    kimeneti típus: List\n",
    "\"\"\""
   ],
   "metadata": {
    "collapsed": false,
    "ExecuteTime": {
     "end_time": "2023-09-27T18:26:04.439659Z",
     "start_time": "2023-09-27T18:26:04.376159900Z"
    }
   },
   "id": "e39a217d9c9cf8df"
  },
  {
   "cell_type": "code",
   "execution_count": 15,
   "outputs": [],
   "source": [],
   "metadata": {
    "collapsed": false,
    "ExecuteTime": {
     "end_time": "2023-09-27T18:26:04.439659Z",
     "start_time": "2023-09-27T18:26:04.392785Z"
    }
   },
   "id": "e13cbf4d47d837f5"
  },
  {
   "cell_type": "code",
   "execution_count": 15,
   "outputs": [],
   "source": [],
   "metadata": {
    "collapsed": false,
    "ExecuteTime": {
     "end_time": "2023-09-27T18:26:04.439659Z",
     "start_time": "2023-09-27T18:26:04.408412500Z"
    }
   },
   "id": "baf80fe79cd87979"
  }
 ],
 "metadata": {
  "kernelspec": {
   "display_name": "Python 3",
   "language": "python",
   "name": "python3"
  },
  "language_info": {
   "codemirror_mode": {
    "name": "ipython",
    "version": 2
   },
   "file_extension": ".py",
   "mimetype": "text/x-python",
   "name": "python",
   "nbconvert_exporter": "python",
   "pygments_lexer": "ipython2",
   "version": "2.7.6"
  }
 },
 "nbformat": 4,
 "nbformat_minor": 5
}
