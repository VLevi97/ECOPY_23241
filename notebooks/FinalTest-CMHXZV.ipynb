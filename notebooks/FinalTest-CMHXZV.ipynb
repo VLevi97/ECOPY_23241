{
 "cells": [
  {
   "cell_type": "markdown",
   "id": "de9d9737616514b8",
   "metadata": {
    "collapsed": false
   },
   "source": [
    "## A zárthelyi során a kitöltött notebookot nevezd át a következő formában és pushold a saját GitHub repository-dba a megadott határidőig. <u>FinalTest-NeptunKód.ipynb</u>\n",
    "#### Használható: _random, matplotlib, pathlib, pandas, typing, str, numpy és az eddig elkészített_ modulok, valamint a _scipy.stats t_ osztálya. Ettől való eltérés során mind a feladat megoldás, mind a ráépülő megoldások 0 pontot érnek"
   ]
  },
  {
   "cell_type": "markdown",
   "source": [
    "### Szimuláció (6 pont)\n",
    "1.,  Készíts egy függvényt, ami létrehoz egy listát, benne **number_of_trajectories** darab listával. A belső listák létrehozásának logikája a következő:\n",
    "* A bemeneti paraméterként kapott __pareto_distribution__ osztály felhasználásával generálj **length_of_trajectory** véletlen számot belső lista tartalmazza a generált számok kumulatív átlagát.\n",
    "* Ismételd meg number_of_trajectories alkalommal (mindegyik belső listába egyszer.\n",
    "* Seed értéke legyen <u>42</u>.\n",
    "* Függvény bemenete: distribution, number_of_trajectories, length_of_trajectory\n",
    "* Kimeneti típus: List    \n",
    "* Függvény neve: **gen_pareto_mean_trajectories**\n",
    "     \n",
    "2., Készíts egy ábrát a következő paraméterekkel: \n",
    "* Szimulálj adatokat a gen_pareto_mean_trajectories segítségével\n",
    "* Pareto eloszlás scale 0.4, shape 1.25\n",
    "* Trajektóriák száma 3\n",
    "* Trajektória hossza 10 000\n",
    "* Jelenítsd meg az eloszlás várható értékét\n",
    "* X tengely címe: Observation in trajectory\n",
    "* Y tengely címe: Cumulative average of trajectory\n",
    "\n",
    "3., Készíts egy függvényt, ami létrehoz egy listát, benne **number_of_trajectories** darab listával. A belső listák létrehozásának logikája a következő:\n",
    "* A bemeneti paraméterként kapott __laplace_distribution__ osztály felhasználásával generálj **length_of_trajectory** véletlen számot belső lista tartalmazza a generált számok kumulatív átlagát.\n",
    "* Ismételd meg number_of_trajectories alkalommal (mindegyik belső listába egyszer.\n",
    "* Seed értéke legyen <u>42</u>.\n",
    "* Függvény bemenete: distribution, number_of_trajectories, length_of_trajectory\n",
    "* Kimeneti típus: List    \n",
    "* Függvény neve: **gen_laplace_mean_trajectories**\n",
    "\n",
    "4., Készíts egy ábrát a következő paraméterekkel: \n",
    "* Szimulálj adatokat a gen_laplace_mean_trajectories segítségével\n",
    "* Laplace eloszlás scale 0.4, loc 2\n",
    "* Trajektóriák száma 5\n",
    "* Trajektória hossza 10 000\n",
    "* Jelenítsd meg az eloszlás várható értékét\n",
    "* X tengely címe: Observation in trajectory\n",
    "* Y tengely címe: Cumulative average of trajectory\n"
   ],
   "metadata": {
    "collapsed": false
   },
   "id": "2f2f9da7d2af162c"
  },
  {
   "cell_type": "markdown",
   "source": [
    "2. Pareto várt megoldás\n",
    "![pareto_solution](../resources/final/pareto.png)"
   ],
   "metadata": {
    "collapsed": false
   },
   "id": "17ba6332fcb85999"
  },
  {
   "cell_type": "markdown",
   "source": [
    "4. Laplace várt megoldás\n",
    "![laplace_solution](../resources/final/laplace.png)"
   ],
   "metadata": {
    "collapsed": false
   },
   "id": "e640c5845ebad9c0"
  },
  {
   "cell_type": "code",
   "execution_count": 40,
   "outputs": [
    {
     "name": "stdout",
     "output_type": "stream",
     "text": [
      "[[0.16932036645405568, 0.9483943250624806, 0.8159374844950319, 0.7008768452819552, 0.5723356079529079, 0.4866397696870628, 0.41999787573266467, 0.4868780519632687, 0.4726107399006835, 0.4760942446786567], [0.006957192262371681, 1.1110189995919257, 1.0119776951539885, 0.7796865909776824, 0.6375854859161161, 0.5429662374037054, 0.4837613845100329, 0.45846984960604076, 0.43057897761431263, 0.39967937057215785], [0.37088560494956213, 0.21111944448110576, 0.18143504094640842, 0.17714323492957817, 0.18672374751090387, 0.26722017012775395, 0.24005599796784896, 0.24406266010357935, 0.25569308858167644, 0.23172187651213952], [0.3658509944676127, 0.2150771528938933, 0.15094295427492246, 0.5368434020905251, 0.8446214451024592, 0.8262846392530262, 0.7266344354845694, 0.6401617194871401, 0.6210896281514364, 0.5803130548473343], [0.04433892542211715, 0.1501173458969176, 0.10398918734691003, 0.38445555759480543, 0.32855868334993577, 0.3465191371900757, 0.31595920422664747, 0.31111964409789605, 0.3100831653133368, 0.28612524530896566]]\n"
     ]
    }
   ],
   "source": [
    "# 1. feladat\n",
    "\n",
    "from typing import List\n",
    "import numpy as np\n",
    "import matplotlib.pyplot as plt\n",
    "\n",
    "class CustomPareto:\n",
    "    def __init__(self, b=3.0, scale=1.0):\n",
    "        self.b = b\n",
    "        self.scale = scale\n",
    "\n",
    "    def rvs(self, size):\n",
    "        return np.random.pareto(self.b, size) * self.scale\n",
    "\n",
    "def gen_pareto_mean_trajectories(distribution: CustomPareto, number_of_trajectories: int, length_of_trajectory: int) -> List[List[float]]:\n",
    "    np.random.seed(42)\n",
    "    trajectories = []\n",
    "\n",
    "    for _ in range(number_of_trajectories):\n",
    "        samples = distribution.rvs(size=length_of_trajectory)\n",
    "        cumulative_mean = np.cumsum(samples) / np.arange(1, length_of_trajectory + 1)\n",
    "        trajectories.append(list(cumulative_mean))\n",
    "    \n",
    "    return trajectories\n",
    "\n",
    "# Tesztelés\n",
    "pareto_dist = CustomPareto(b=3.0, scale=1.0)\n",
    "result = gen_pareto_mean_trajectories(pareto_dist, number_of_trajectories=5, length_of_trajectory=10)\n",
    "\n",
    "# Kiíratás\n",
    "print(result)\n"
   ],
   "metadata": {
    "collapsed": false,
    "ExecuteTime": {
     "end_time": "2023-12-08T12:57:26.131821700Z",
     "start_time": "2023-12-08T12:57:26.031504200Z"
    }
   },
   "id": "6a757681568abcd0"
  },
  {
   "cell_type": "code",
   "execution_count": null,
   "outputs": [],
   "source": [
    "# 2. feladat\n",
    "\n",
    "import matplotlib.pyplot as plt\n",
    "\n",
    "# Feladatból származó függvény\n",
    "\n",
    "def gen_pareto_mean_trajectories(distribution, number_of_trajectories, length_of_trajectory):\n",
    "    return gen_pareto_mean_trajectories(distribution, number_of_trajectories, length_of_trajectory)\n",
    "\n",
    "# Feladat paraméterei\n",
    "pareto_scale = 0.4\n",
    "pareto_shape = 1.25\n",
    "number_of_trajectories = 3\n",
    "length_of_trajectory = 10000\n",
    "\n",
    "# Pareto eloszlás létrehozása a megadott paraméterekkel\n",
    "pareto_distribution = pareto(pareto_shape, scale=pareto_scale)\n",
    "\n",
    "# Trajektóriák generálása\n",
    "trajectories = gen_pareto_mean_trajectories(pareto_distribution, number_of_trajectories, length_of_trajectory)\n",
    "\n",
    "# Ábra létrehozása és megjelenítése\n",
    "plt.figure(figsize=(10, 6))\n",
    "\n",
    "for i in range(number_of_trajectories):\n",
    "    plt.plot(trajectories[i], label=f'Trajectory {i + 1}')\n",
    "\n",
    "# Várható érték megjelenítése\n",
    "expected_value = pareto_distribution.mean()\n",
    "plt.axhline(y=expected_value, color='r', linestyle='--', label=f'Expected Value ({expected_value:.2f})')\n",
    "\n",
    "# Tengelycímek\n",
    "plt.xlabel('Observation in Trajectory')\n",
    "plt.ylabel('Cumulative Average of Trajectory')\n",
    "\n",
    "# Ábra megjelenítése\n",
    "plt.show()"
   ],
   "metadata": {
    "collapsed": false,
    "is_executing": true,
    "ExecuteTime": {
     "start_time": "2023-12-08T13:01:32.025187800Z"
    }
   },
   "id": "1af045efaaaa1113"
  },
  {
   "cell_type": "code",
   "execution_count": 42,
   "outputs": [],
   "source": [
    "# 3. feladat\n",
    "\n",
    "def gen_laplace_mean_trajectories(distribution: laplace, number_of_trajectories: int, length_of_trajectory: int) -> List[List[float]]:\n",
    "    np.random.seed(42)\n",
    "    trajectories = []\n",
    "\n",
    "    for _ in range(number_of_trajectories):\n",
    "        random_numbers = distribution.rvs(size=length_of_trajectory)\n",
    "        cumulative_means = np.cumsum(random_numbers) / np.arange(1, length_of_trajectory + 1)\n",
    "        trajectories.append(cumulative_means.tolist())\n",
    "\n",
    "    return trajectories\n"
   ],
   "metadata": {
    "collapsed": false,
    "ExecuteTime": {
     "end_time": "2023-12-08T12:57:41.966138200Z",
     "start_time": "2023-12-08T12:57:41.934897200Z"
    }
   },
   "id": "fda98e0aed627b22"
  },
  {
   "cell_type": "code",
   "execution_count": 4,
   "outputs": [
    {
     "ename": "NameError",
     "evalue": "name 'laplace' is not defined",
     "output_type": "error",
     "traceback": [
      "\u001B[1;31m---------------------------------------------------------------------------\u001B[0m",
      "\u001B[1;31mNameError\u001B[0m                                 Traceback (most recent call last)",
      "Cell \u001B[1;32mIn[4], line 7\u001B[0m\n\u001B[0;32m      4\u001B[0m \u001B[38;5;28;01mimport\u001B[39;00m \u001B[38;5;21;01mnumpy\u001B[39;00m \u001B[38;5;28;01mas\u001B[39;00m \u001B[38;5;21;01mnp\u001B[39;00m\n\u001B[0;32m      6\u001B[0m \u001B[38;5;66;03m# 1. Feladatból származó függvény\u001B[39;00m\n\u001B[1;32m----> 7\u001B[0m \u001B[38;5;28;01mdef\u001B[39;00m \u001B[38;5;21mgen_laplace_mean_trajectories\u001B[39m(distribution: \u001B[43mlaplace\u001B[49m, number_of_trajectories: \u001B[38;5;28mint\u001B[39m, length_of_trajectory: \u001B[38;5;28mint\u001B[39m) \u001B[38;5;241m-\u001B[39m\u001B[38;5;241m>\u001B[39m List[List[\u001B[38;5;28mfloat\u001B[39m]]:\n\u001B[0;32m      8\u001B[0m     \u001B[38;5;28;01mreturn\u001B[39;00m gen_laplace_mean_trajectories(distribution, number_of_trajectories, length_of_trajectory)\n\u001B[0;32m     10\u001B[0m \u001B[38;5;66;03m# 2. Feladat paraméterei\u001B[39;00m\n",
      "\u001B[1;31mNameError\u001B[0m: name 'laplace' is not defined"
     ]
    }
   ],
   "source": [
    "# 4. feladat\n",
    "\n",
    "import matplotlib.pyplot as plt\n",
    "import numpy as np\n",
    "\n",
    "# 1. Feladatból származó függvény\n",
    "def gen_laplace_mean_trajectories(distribution: laplace, number_of_trajectories: int, length_of_trajectory: int) -> List[List[float]]:\n",
    "    return gen_laplace_mean_trajectories(distribution, number_of_trajectories, length_of_trajectory)\n",
    "\n",
    "# 2. Feladat paraméterei\n",
    "laplace_loc = 2\n",
    "laplace_scale = 0.4\n",
    "number_of_trajectories = 5\n",
    "length_of_trajectory = 10000\n",
    "\n",
    "# Trajektóriák generálása\n",
    "trajectories = gen_laplace_mean_trajectories(laplace_loc, laplace_scale, number_of_trajectories, length_of_trajectory)\n",
    "\n",
    "# Ábra létrehozása és megjelenítése\n",
    "plt.figure(figsize=(10, 6))\n",
    "\n",
    "for i in range(number_of_trajectories):\n",
    "    plt.plot(trajectories[i], label=f'Trajectory {i + 1}')\n",
    "\n",
    "# Címkék hozzáadása\n",
    "plt.xlabel('Observation in Trajectory')\n",
    "plt.ylabel('Cumulative Average of Trajectory')\n",
    "\n",
    "# Ábra megjelenítése\n",
    "plt.show()"
   ],
   "metadata": {
    "collapsed": false,
    "ExecuteTime": {
     "end_time": "2023-12-08T13:04:47.291396300Z",
     "start_time": "2023-12-08T13:04:47.210523200Z"
    }
   },
   "id": "fc70788341ad612f"
  },
  {
   "cell_type": "markdown",
   "source": [
    "### Adatelőkészítés (6 pont)\n",
    "1., Olvasd be a data mappa __sp500.parquet__ nevű fájlját egy DataFrame-be. A betöltéshez használt engine paramétere legyen <u>fastparquet</u>\n",
    "2., Olvasd be az __ff_factors.parquet__ fájlt egy DataFrame-be. A betöltéshez használt engine paramétere legyen <u>fastparquet</u>\n",
    "3., Kapcsold össze a két DataFrame-t egy új DataFrame-be. Az összekapcsolás módja, hogy a hozam adatokra balról kapcsoljuk rá a factor adatokat a __'Date' elsődleges kulcs__ alapján.\n",
    "4., Készíts egy új __'Excess Return'__ nevű oszlopot, ami a havi hozamok és a kockázat mentes hozam (RF) különbsége\n",
    "5., <u>Rendezd sorba dátum szerint az adatokat</u>, majd generálj egy új oszlopot (__'ex_ret_1'__), amely minden ticker ('Symbol') esetén 1-el eltolja az Excess Return értékeit olyan módon, hogy minden sorban szerepeljen a <u>következő időszaki Excess Return</u> érték. \n",
    "6., A meglévő adathalmazt írd felül olyan módon, hogy egyszer <u>törlöd az össze olyan sort</u>, amely az __'ex_ret_1' oszlopban hiányos__, majd ezt követően, törlöd az összes olyan sort, ami a __'HML' oszlopban hiányos__.\n"
   ],
   "metadata": {
    "collapsed": false
   },
   "id": "dad5a013c358987e"
  },
  {
   "cell_type": "code",
   "execution_count": null,
   "outputs": [],
   "source": [],
   "metadata": {
    "collapsed": false
   },
   "id": "da370f135bc55aa1"
  },
  {
   "cell_type": "markdown",
   "source": [
    "3. feladat segítség\n",
    "![Joined data](../resources/weekly6/joined_data.jpg)"
   ],
   "metadata": {
    "collapsed": false
   },
   "id": "cf54c6765186a23e"
  },
  {
   "cell_type": "markdown",
   "source": [
    "5. feladat segítség\n",
    "![new column](../resources/weekly6/ex_ret_1.jpg)"
   ],
   "metadata": {
    "collapsed": false
   },
   "id": "a6be746933376572"
  },
  {
   "cell_type": "markdown",
   "source": [
    "Teljesített feladat\n",
    "![full_data](../resources/final/return_data.jpg)"
   ],
   "metadata": {
    "collapsed": false
   },
   "id": "3e6d0b0f5f05dc4e"
  },
  {
   "cell_type": "code",
   "execution_count": 20,
   "outputs": [
    {
     "name": "stdout",
     "output_type": "stream",
     "text": [
      "           Symbol  Monthly Returns  Mkt-RF     SMB     HML     RF  \\\n",
      "Date                                                                \n",
      "2000-02-29      A         0.569405  0.0245  0.2136 -0.0959  0.043   \n",
      "2000-03-31      A         0.001203  0.0520 -0.1720  0.0813  0.047   \n",
      "2000-05-31      A        -0.169252 -0.0442 -0.0605  0.0475  0.050   \n",
      "2000-06-30      A         0.001698  0.0464  0.1284 -0.0842  0.040   \n",
      "2000-07-31      A        -0.447458 -0.0251 -0.0307  0.0831  0.048   \n",
      "...           ...              ...     ...     ...     ...    ...   \n",
      "2022-05-31    ZTS        -0.035656 -0.0034 -0.0183  0.0839  0.003   \n",
      "2022-06-30    ZTS         0.005616 -0.0843  0.0210 -0.0597  0.006   \n",
      "2022-08-31    ZTS        -0.142536 -0.0377  0.0140  0.0029  0.019   \n",
      "2022-09-30    ZTS        -0.052642 -0.0935 -0.0081  0.0005  0.019   \n",
      "2022-10-31    ZTS         0.018952  0.0783  0.0006  0.0801  0.023   \n",
      "\n",
      "            Excess Return  ex_ret_1  \n",
      "Date                                 \n",
      "2000-02-29       0.526405 -0.045797  \n",
      "2000-03-31      -0.045797 -0.219252  \n",
      "2000-05-31      -0.219252 -0.038302  \n",
      "2000-06-30      -0.038302 -0.495458  \n",
      "2000-07-31      -0.495458  0.446933  \n",
      "...                   ...       ...  \n",
      "2022-05-31      -0.038656 -0.000384  \n",
      "2022-06-30      -0.000384 -0.161536  \n",
      "2022-08-31      -0.161536 -0.071642  \n",
      "2022-09-30      -0.071642 -0.004048  \n",
      "2022-10-31      -0.004048 -0.006716  \n",
      "\n",
      "[86113 rows x 8 columns]\n"
     ]
    }
   ],
   "source": [
    "# Adatelőkészítés (6 pont) feladat megoldása\n",
    "\n",
    "from pathlib import Path\n",
    "import pandas as pd\n",
    "\n",
    "# Adatok elérési útvonala\n",
    "data_path = Path(\"C:/Users/Levente/OneDrive/Desktop/NGG/Python/data\")\n",
    "\n",
    "# 1. feladat\n",
    "sp500_data = pd.read_parquet(data_path / \"sp500.parquet\", engine=\"fastparquet\")\n",
    "\n",
    "# 2. Feladat\n",
    "ff_factors_data = pd.read_parquet(data_path / \"ff_factors.parquet\", engine=\"fastparquet\")\n",
    "\n",
    "# 3. Feladat\n",
    "merged_data = pd.merge(sp500_data, ff_factors_data, on='Date', how='left')\n",
    "\n",
    "# 4. Feladat\n",
    "merged_data['Excess Return'] = merged_data['Monthly Returns'] - merged_data['RF']\n",
    "\n",
    "# 5. Feladat\n",
    "merged_data.sort_values(by='Date')\n",
    "merged_data['ex_ret_1'] = merged_data.groupby('Symbol')['Excess Return'].shift(-1)\n",
    "\n",
    "# 6. Feladat\n",
    "merged_data = merged_data.dropna(subset=['ex_ret_1'])\n",
    "merged_data = merged_data.dropna(subset=['HML'])\n",
    "\n",
    "print(merged_data)\n"
   ],
   "metadata": {
    "collapsed": false,
    "ExecuteTime": {
     "end_time": "2023-12-08T12:27:36.406088100Z",
     "start_time": "2023-12-08T12:27:36.243345900Z"
    }
   },
   "id": "247a308161a8a695"
  },
  {
   "cell_type": "code",
   "execution_count": 21,
   "outputs": [
    {
     "name": "stdout",
     "output_type": "stream",
     "text": [
      "            Monthly Returns  Mkt-RF     SMB     HML     RF  Excess Return  \\\n",
      "Date                                                                        \n",
      "2000-01-31        -0.984367 -0.0474  0.0577 -0.0188  0.041      -1.025367   \n",
      "2000-02-29         0.066796  0.0245  0.2136 -0.0959  0.043       0.023796   \n",
      "2000-03-31        -0.027223  0.0520 -0.1720  0.0813  0.047      -0.074223   \n",
      "2000-05-31        -0.124575 -0.0442 -0.0605  0.0475  0.050      -0.174575   \n",
      "2000-06-30        -0.248383  0.0464  0.1284 -0.0842  0.040      -0.288383   \n",
      "\n",
      "            ex_ret_1  \n",
      "Date                  \n",
      "2000-01-31  0.023796  \n",
      "2000-02-29 -0.074223  \n",
      "2000-03-31 -0.174575  \n",
      "2000-05-31 -0.288383  \n",
      "2000-06-30 -0.218396  \n"
     ]
    }
   ],
   "source": [
    "# Modell összeállítás 0. utasítása\n",
    "\n",
    "# Amazon részvényhez tartozó sorok kiválasztása és kimentése\n",
    "amazon_data = merged_data[merged_data['Symbol'] == 'AMZN']\n",
    "\n",
    "# Ticker oszlop törlése\n",
    "amazon_data = amazon_data.drop(columns=['Symbol'])\n",
    "\n",
    "print(amazon_data.head())"
   ],
   "metadata": {
    "collapsed": false,
    "ExecuteTime": {
     "end_time": "2023-12-08T12:27:39.233393600Z",
     "start_time": "2023-12-08T12:27:39.164389700Z"
    }
   },
   "id": "dfb589cc036afb44"
  },
  {
   "cell_type": "markdown",
   "source": [
    "### Modell összeállítás (12 pont)\n",
    "\n",
    "A meglévő adatokból válaszd ki a __Amazon részvényhez tartozó sorokat (AMZN)__, mentsd ki egy új DataFrame-be. Az új DataFrame-ból töröld a tickereket tartalmazó oszlopot.\n",
    "\n",
    "1., Készíts egy új __LinearRegressionFT__ elnevezésű osztályt. Definiáld benne a __\\_\\_init\\_\\___ nevű függvényt, amely bemenetként 2 DataFrame-t kap amelyeket ments le a left_hand_side és right_hand_side elnevezésű változókba. Az egyik DataFrame fogja tartalmazni a következő hónap többlet hozamait (__left_hand_side__), a másik a piaci hozamokat (Mkt-RF), az SMB és a HML értékeket (__right_hand_side__).\n",
    "\n",
    "2., Egésztsd ki az osztályt egy __fit__ metódussal, ami OLS elvű becslést hajt végre. Figyelj oda, hogy a regresszió futtatása során konstans (alfa / béta_0) is szerepeljen a predictor változók között, amely az első változó legyen.\n",
    "\n",
    "3., Egészítsd ki az osztályt egy __get_params__ metódussal, ami visszaadja a becsült modell béta paramétereinek értékeit. A visszakapott pandas Series típusú adatban az oszlop neve legyen __Beta coefficients__. \n",
    "\n",
    "4., Egészítse ki az osztályt egy __get_wild_se__ metódussal, ami visszaadja a bemeneti bootstrap minták száma (__number_of_bootstrap_samples__) és a random seed (__random_seed__) alapján a koefficiensek becsült standard hiba értékit. A visszakapott pandas Series típusú adatban az oszlop neve legyen __Wild bootstrap standard errors for the corrseponding coefficients__. A szignifikancia szintről feltételezzük, hogy 0 és 1 közötti érték, és a bemeneti értéket még a kétoldalúság miatt feleznünk kell.\n",
    " \n",
    "5., Egészítsd ki az osztályt egy __get_pvalues__ metódussal, ami visszaadja a becsült modell paraméterekhez tartozó p értékeket. A visszakapott pandas Series típusú adatban az oszlop neve legyen: __P-values for the corresponding coefficients__. A p értéket t statisztika és a wild bootstrap alapján számolt standard hibák segítségével számold ki\n",
    "\n",
    "6., Egészítsd ki az osztályt egy __get_pivot_ci__ metódussal, ami visszaadja a becsült modell paraméterekhez konfidencia intervallumokat, a bemeneti a szignifikancia szint (__alpha__) alapján. A megoldás során a bootstrappelt mintából, pivot módszer segítségével számold ki a konfidencia intervallum alsó és felső határát minden változóra. A visszakapott pandas DataFrame típusú adatban az oszlopok neve legyen rendre __Pivot CI lowerbound__ és __Pivot CI upperbound__. A szignifikancia szintről feltételezzük, hogy 0 és 1 közötti érték, és a bemeneti értéket még a kétoldalúság miatt feleznünk kell.\n",
    "\n",
    "7., Egészítse ki az osztályt egy __get_model_goodness_values__ metódussal, ami visszadja a centrált és a módosított R-négyzet értékeket. A visszatérési típus string legyen, a visszaadandó szöveg: __Centered R-squared: crs, Adjusted R-squared: ars__, ahol crs és ars helyére 3 tizedesjegyre kerekítve (__:.3f__) add meg a hozzájuk tartozó értékeket. <u>Ha a regresszorok számába eredetileg beleszámítottad a konstanst is, akkor a módosított R-négyzet számítás nevezőjében nincs szükség a __-1__-es tagra</u>."
   ],
   "metadata": {
    "collapsed": false
   },
   "id": "1888d0ef54d4b2c3"
  },
  {
   "cell_type": "code",
   "execution_count": 8,
   "outputs": [],
   "source": [
    "import pandas as pd\n",
    "import numpy as np\n",
    "\n",
    "class LinearRegressionFT:\n",
    "    def __init__(self, left_hand_side, right_hand_side):\n",
    "        self.left_hand_side = left_hand_side\n",
    "        self.right_hand_side = right_hand_side\n",
    "        self.right_hand_side = sm.add_constant(self.right_hand_side)\n",
    "        self._model = None\n",
    "        \n",
    "\n",
    "    def fit(self):\n",
    "        x = self.right_hand_side\n",
    "        y = self.left_hand_side.values\n",
    "        self.XtX = x.T@x\n",
    "        self.XtX_inv = np.linalg.inv(self.XtX)\n",
    "        self.Xty = x.T@y\n",
    "        self.betas = self.XtX_inv@self.Xty\n",
    "\n",
    "        return\n",
    "    \n",
    "    def get_params(self):\n",
    "        return pd.Series(self.betas, name='Beta coefficients')\n",
    "    \n",
    "    def get_wild_se(self, number_of_bootstrap_samples, alpha, random_seed):\n",
    "        self.residuals = self.left_hand_side - np.dot(self.right_hand_side, self.betas)\n",
    "        beta_samples = []\n",
    "        np.random.seed(random_seed)\n",
    "\n",
    "        for _ in range(number_of_bootstrap_samples):\n",
    "            # Generate a bootstrap sample\n",
    "            idx = np.random.choice(len(self.left_hand_side), size=len(self.left_hand_side), replace=True)\n",
    "            x_bootstrap = self.right_hand_side.iloc[idx]\n",
    "            V = np.random.normal(0, 1, len(self.left_hand_side))\n",
    "            y_bootstrap = x_bootstrap @ self.betas + V * self.residuals.iloc[idx]\n",
    "\n",
    "            # Fit the model on the bootstrap sample\n",
    "            XtX_bootstrap = x_bootstrap.T @ x_bootstrap\n",
    "            XtX_inv_bootstrap = np.linalg.inv(XtX_bootstrap)\n",
    "            Xty_bootstrap = x_bootstrap.T @ y_bootstrap\n",
    "            betas_bootstrap = XtX_inv_bootstrap @ Xty_bootstrap\n",
    "            beta_first = betas_bootstrap[1]\n",
    "            beta_samples.append(beta_first)\n",
    "\n",
    "        beta_samples = np.array(beta_samples)\n",
    "\n",
    "        variance_bootstrap = (1 / number_of_bootstrap_samples) * np.sum((beta_samples - beta_samples.mean()) ** 2)\n",
    "        bse = np.sqrt(variance_bootstrap)\n",
    "\n",
    "        # Compute confidence intervals (adjust percentiles as needed)\n",
    "        z = scipy.stats.norm.ppf(1 - alpha / 2)\n",
    "        lb = self.betas[1] - z*bse\n",
    "        ub = self.betas[1] + z*bse\n",
    "\n",
    "        return f'Wild Bootstraped SE: {bse:.3f}, CI: [{lb:.3f}, {ub:.3f}]'\n",
    "\n",
    "    def get_pvalues(self):\n",
    "        self.residuals = self.left_hand_side - np.dot(self.right_hand_side, self.betas)\n",
    "        self.n = len(self.left_hand_side)\n",
    "        self.K = len(self.right_hand_side.columns)\n",
    "        self.df = self.n - self.K\n",
    "        self.variance = self.residuals.T@self.residuals / self.df\n",
    "        self.stderror = np.sqrt(self.variance * np.diag(self.XtX_inv))\n",
    "        self.t_stat = np.divide(self.betas, self.stderror)\n",
    "        term = np.minimum(scipy.stats.t.cdf(self.t_stat, self.df), 1 - scipy.stats.t.cdf(self.t_stat, self.df))\n",
    "        p_values = term * 2\n",
    "        return pd.Series(p_values, name='P-values for the corresponding coefficients')\n",
    "\n",
    "\n",
    "    def get_model_goodness_values(self):\n",
    "        y_demean = self.left_hand_side - self.left_hand_side.mean()\n",
    "        SST = y_demean.T@y_demean\n",
    "        SSE = self.residuals.T@self.residuals\n",
    "        r2 = 1 - SSE / SST\n",
    "        adj_r2 = 1 - (self.n - 1) / self.df * (1 - r2)\n",
    "        return f'Centered R-squared: {r2:.3f}, Adjusted R-squared: {adj_r2:.3f}'"
   ],
   "metadata": {
    "collapsed": false,
    "ExecuteTime": {
     "end_time": "2023-12-08T13:15:41.642365700Z",
     "start_time": "2023-12-08T13:15:41.597425800Z"
    }
   },
   "id": "aaf0449497b4b53b"
  },
  {
   "cell_type": "code",
   "execution_count": 8,
   "outputs": [],
   "source": [],
   "metadata": {
    "collapsed": false,
    "ExecuteTime": {
     "end_time": "2023-12-08T13:16:02.351557300Z",
     "start_time": "2023-12-08T13:16:02.335934900Z"
    }
   },
   "id": "f2598c55fef38b3f"
  },
  {
   "cell_type": "markdown",
   "source": [
    "3. feladat elvárt megoldás\n",
    "![betas](../resources/final/betas.jpg)"
   ],
   "metadata": {
    "collapsed": false
   },
   "id": "8507a1da0b8e60b3"
  },
  {
   "cell_type": "code",
   "execution_count": 11,
   "outputs": [],
   "source": [],
   "metadata": {
    "collapsed": false,
    "ExecuteTime": {
     "end_time": "2023-12-08T12:01:36.204893Z",
     "start_time": "2023-12-08T12:01:36.182622Z"
    }
   },
   "id": "a1817207f35d3d5d"
  },
  {
   "cell_type": "markdown",
   "source": [
    "4. feladat elvárt megoldás 42-es seed és 5000-es bootstrap sample mellett\n",
    "![wild_bootstrap_se_result](../resources/final/se.jpg)"
   ],
   "metadata": {
    "collapsed": false
   },
   "id": "4aa2f67c57301990"
  },
  {
   "cell_type": "code",
   "execution_count": 11,
   "outputs": [],
   "source": [],
   "metadata": {
    "collapsed": false,
    "ExecuteTime": {
     "end_time": "2023-12-08T12:01:36.251758800Z",
     "start_time": "2023-12-08T12:01:36.198245100Z"
    }
   },
   "id": "de21cd6be15e03b9"
  },
  {
   "cell_type": "markdown",
   "source": [
    "5. feladat elvárt megoldás\n",
    "![p_values](../resources/final/pvalue.jpg)"
   ],
   "metadata": {
    "collapsed": false
   },
   "id": "95d6a3955b550ba2"
  },
  {
   "cell_type": "code",
   "execution_count": 11,
   "outputs": [],
   "source": [],
   "metadata": {
    "collapsed": false,
    "ExecuteTime": {
     "end_time": "2023-12-08T12:01:36.251758800Z",
     "start_time": "2023-12-08T12:01:36.204893Z"
    }
   },
   "id": "857eb08938ef571b"
  },
  {
   "cell_type": "markdown",
   "source": [
    "6. eladat elvárt megoldás\n",
    "![confidence](../resources/final/ci.jpg)"
   ],
   "metadata": {
    "collapsed": false
   },
   "id": "f620b7ec5e3bbe"
  },
  {
   "cell_type": "code",
   "execution_count": 11,
   "outputs": [],
   "source": [],
   "metadata": {
    "collapsed": false,
    "ExecuteTime": {
     "end_time": "2023-12-08T12:01:36.251758800Z",
     "start_time": "2023-12-08T12:01:36.220515200Z"
    }
   },
   "id": "ce82b4ec8a87923b"
  },
  {
   "cell_type": "markdown",
   "source": [
    "7. feladat elvárt megoldás\n",
    "![rsquared](../resources/final/rsquared.jpg)"
   ],
   "metadata": {
    "collapsed": false
   },
   "id": "a420109f0d63a68a"
  },
  {
   "cell_type": "code",
   "execution_count": 11,
   "outputs": [],
   "source": [],
   "metadata": {
    "collapsed": false,
    "ExecuteTime": {
     "end_time": "2023-12-08T12:01:36.251758800Z",
     "start_time": "2023-12-08T12:01:36.236137700Z"
    }
   },
   "id": "7b40a080c09c561a"
  }
 ],
 "metadata": {
  "kernelspec": {
   "display_name": "Python 3 (ipykernel)",
   "language": "python",
   "name": "python3"
  },
  "language_info": {
   "codemirror_mode": {
    "name": "ipython",
    "version": 3
   },
   "file_extension": ".py",
   "mimetype": "text/x-python",
   "name": "python",
   "nbconvert_exporter": "python",
   "pygments_lexer": "ipython3",
   "version": "3.10.4"
  }
 },
 "nbformat": 4,
 "nbformat_minor": 5
}
