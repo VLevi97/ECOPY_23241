{
 "cells": [
  {
   "cell_type": "markdown",
   "source": [
    "## A feladatok megoldása során csak a random, typing, math és pyerf modulok importálása elfogadott"
   ],
   "metadata": {
    "collapsed": false
   },
   "id": "d505d83ecd86220f"
  },
  {
   "cell_type": "markdown",
   "source": [
    "### A véletlenszám generálással kapcsolatos feladatok megoldását mentse src/utils modul-ba a **rand_wrappers.py** nevű fájlba"
   ],
   "metadata": {
    "collapsed": false
   },
   "id": "ea5dd5c989562edd"
  },
  {
   "cell_type": "markdown",
   "source": [
    "#### I. Véletlenszám generálás"
   ],
   "metadata": {
    "collapsed": false
   },
   "id": "2b075b97100da4f5"
  },
  {
   "cell_type": "code",
   "execution_count": null,
   "outputs": [],
   "source": [
    "\"\"\"\n",
    "0. Importáld a random modult\n",
    "\"\"\""
   ],
   "metadata": {
    "collapsed": false
   },
   "id": "cbd02be6fcc0366a"
  },
  {
   "cell_type": "code",
   "execution_count": null,
   "outputs": [],
   "source": [],
   "metadata": {
    "collapsed": false
   },
   "id": "293149d5d3d7699c"
  },
  {
   "cell_type": "code",
   "execution_count": null,
   "outputs": [],
   "source": [
    "\"\"\"\n",
    " 1., Hívd meg a random szám generátort, és generálj egy 0 és 1 közötti véletlen számot\n",
    "\"\"\""
   ],
   "metadata": {
    "collapsed": false
   },
   "id": "eb4ecd4b7ce19422"
  },
  {
   "cell_type": "code",
   "execution_count": 1,
   "outputs": [],
   "source": [
    "import random"
   ],
   "metadata": {
    "collapsed": false,
    "ExecuteTime": {
     "end_time": "2023-09-25T20:51:47.697952600Z",
     "start_time": "2023-09-25T20:51:47.644577500Z"
    }
   },
   "id": "43b12980ba15149a"
  },
  {
   "cell_type": "code",
   "execution_count": null,
   "outputs": [],
   "source": [
    "\"\"\"\n",
    "2., Generálj 1 és 100 közötti egész véletlen számokat\n",
    "\"\"\""
   ],
   "metadata": {
    "collapsed": false
   },
   "id": "2256690fb4b1ec52"
  },
  {
   "cell_type": "code",
   "execution_count": 7,
   "outputs": [
    {
     "name": "stdout",
     "output_type": "stream",
     "text": [
      "15\n"
     ]
    }
   ],
   "source": [
    "random_number = random.randint(1, 100)\n",
    "\n",
    "print(random_number)"
   ],
   "metadata": {
    "collapsed": false,
    "ExecuteTime": {
     "end_time": "2023-09-25T20:53:12.628011200Z",
     "start_time": "2023-09-25T20:53:12.596768300Z"
    }
   },
   "id": "a06c7bcdb2f0479c"
  },
  {
   "cell_type": "code",
   "execution_count": null,
   "outputs": [],
   "source": [
    "\"\"\"\n",
    "3. Generálj 1 és 100 közötti véletlen egész számot, olyan módon, hogy a random seed értéke 42 legyen\n",
    "\"\"\""
   ],
   "metadata": {
    "collapsed": false
   },
   "id": "2619e1f9970a541"
  },
  {
   "cell_type": "code",
   "execution_count": 8,
   "outputs": [
    {
     "name": "stdout",
     "output_type": "stream",
     "text": [
      "82\n"
     ]
    }
   ],
   "source": [
    "random.seed(42)\n",
    "random_number = random.randint(1, 100)\n",
    "\n",
    "print(random_number)"
   ],
   "metadata": {
    "collapsed": false,
    "ExecuteTime": {
     "end_time": "2023-09-25T20:53:15.250780400Z",
     "start_time": "2023-09-25T20:53:15.219504700Z"
    }
   },
   "id": "32dc9cba11559ce6"
  },
  {
   "cell_type": "code",
   "execution_count": null,
   "outputs": [],
   "source": [
    "\"\"\"\n",
    "4., Készíts egy függvényt, ami visszaad egy véletlenül kiválasztott elemet egy egész számokat tartalmazó listából.\n",
    "    függvény neve: random_from_list\n",
    "    bemenet: input_list\n",
    "    kimenetí típus: int\n",
    "\"\"\""
   ],
   "metadata": {
    "collapsed": false
   },
   "id": "c51741266de0cdad"
  },
  {
   "cell_type": "code",
   "execution_count": 10,
   "outputs": [],
   "source": [
    "def random_from_list(input_list):\n",
    "    if not input_list:\n",
    "        raise ValueError(\"Empty input list\")\n",
    "\n",
    "    random_index = random.randint(0, len(input_list) - 1)\n",
    "    random_element = input_list[random_index]\n",
    "\n",
    "    return random_element"
   ],
   "metadata": {
    "collapsed": false,
    "ExecuteTime": {
     "end_time": "2023-09-25T20:54:06.867160200Z",
     "start_time": "2023-09-25T20:54:06.842999400Z"
    }
   },
   "id": "72b0c99ffa3612ba"
  },
  {
   "cell_type": "code",
   "execution_count": 11,
   "outputs": [
    {
     "name": "stdout",
     "output_type": "stream",
     "text": [
      "Véletlenszerűen kiválasztott elem: 2\n"
     ]
    }
   ],
   "source": [],
   "metadata": {
    "collapsed": false,
    "ExecuteTime": {
     "end_time": "2023-09-25T20:54:27.765257600Z",
     "start_time": "2023-09-25T20:54:27.718385100Z"
    }
   },
   "id": "cdde72ad03063a33"
  },
  {
   "cell_type": "code",
   "execution_count": null,
   "outputs": [],
   "source": [
    "\"\"\"\n",
    "5., Készíts egy függvényt, ami visszaad egy n darab véletlen számot tartalmazó listát egy egész számokat tartalmazó bemenenti listából.\n",
    "    függvény neve: random_sublist_from_list\n",
    "    bemenet: input_list, number_of_elements\n",
    "    kimenetí típus: List\n",
    "\"\"\""
   ],
   "metadata": {
    "collapsed": false
   },
   "id": "3c3b117c6945d95e"
  },
  {
   "cell_type": "code",
   "execution_count": 12,
   "outputs": [],
   "source": [
    "def random_sublist_from_list(input_list, number_of_elements):\n",
    "    if not input_list:\n",
    "        raise ValueError(\"Empty input list\")\n",
    "    if number_of_elements < 0 or number_of_elements > len(input_list):\n",
    "        raise ValueError(\"Invalid request\")\n",
    "\n",
    "    random_sublist = random.sample(input_list, number_of_elements)\n",
    "    return random_sublist"
   ],
   "metadata": {
    "collapsed": false,
    "ExecuteTime": {
     "end_time": "2023-09-25T20:57:03.788374800Z",
     "start_time": "2023-09-25T20:57:03.747363500Z"
    }
   },
   "id": "ceac8cab2318777a"
  },
  {
   "cell_type": "code",
   "execution_count": 15,
   "outputs": [],
   "source": [],
   "metadata": {
    "collapsed": false,
    "ExecuteTime": {
     "end_time": "2023-09-25T20:58:03.887585200Z",
     "start_time": "2023-09-25T20:58:03.856336400Z"
    }
   },
   "id": "fe7a3b2e5edeb6da"
  },
  {
   "cell_type": "code",
   "execution_count": null,
   "outputs": [],
   "source": [
    "\"\"\"\n",
    "6., Készíts egy függvényt, ami visszaad egy véletlenül kiválasztott elemet egy string-ből.\n",
    "    függvény neve: random_from_string\n",
    "    bemenet: input_string\n",
    "    kimeneti típus: string\n",
    "\"\"\""
   ],
   "metadata": {
    "collapsed": false
   },
   "id": "ed010e62624fc66b"
  },
  {
   "cell_type": "code",
   "execution_count": 16,
   "outputs": [],
   "source": [
    "\n",
    "def random_from_string(input_string):\n",
    "    if not input_string:\n",
    "        raise ValueError(\"Empty input string\")\n",
    "\n",
    "    random_index = random.randint(0, len(input_string) - 1)\n",
    "    random_char = input_string[random_index]\n",
    "\n",
    "    return random_char"
   ],
   "metadata": {
    "collapsed": false,
    "ExecuteTime": {
     "end_time": "2023-09-25T20:59:14.140271800Z",
     "start_time": "2023-09-25T20:59:14.091552300Z"
    }
   },
   "id": "b80d5b96ab74845f"
  },
  {
   "cell_type": "code",
   "execution_count": 17,
   "outputs": [],
   "source": [],
   "metadata": {
    "collapsed": false,
    "ExecuteTime": {
     "end_time": "2023-09-25T20:59:29.252089100Z",
     "start_time": "2023-09-25T20:59:29.214416700Z"
    }
   },
   "id": "83a9b80d30f40573"
  },
  {
   "cell_type": "code",
   "execution_count": null,
   "outputs": [],
   "source": [
    "'''\n",
    "7., Készíts egy függvényt, amely visszaad egy 100 elemű, 0 és 1 közötti véletlen számokat tartalmazó listát\n",
    "    függvény név: hundred_small_random\n",
    "    bemenet: None\n",
    "    kimeneti típus: List\n",
    "'''"
   ],
   "metadata": {
    "collapsed": false
   },
   "id": "a18853a36629971e"
  },
  {
   "cell_type": "code",
   "execution_count": null,
   "outputs": [],
   "source": [
    "def hundred_small_random():\n",
    "    random_list = [random.random() for _ in range(100)]\n",
    "    return random_list"
   ],
   "metadata": {
    "collapsed": false
   },
   "id": "7dbab89507762f1c"
  },
  {
   "cell_type": "code",
   "execution_count": null,
   "outputs": [],
   "source": [],
   "metadata": {
    "collapsed": false
   },
   "id": "30d4ef80cc42dd81"
  },
  {
   "cell_type": "code",
   "execution_count": null,
   "outputs": [],
   "source": [
    "\"\"\"\n",
    "8., Készíts egy függvényt, amely visszaad egy 100 elemű, 10 és 1000 közötti véletlen számokat tartalmazó listát\n",
    "    függvény név: hundred_large_random\n",
    "    bemenet: None\n",
    "    kimeneti típus: List\n",
    "\"\"\""
   ],
   "metadata": {
    "collapsed": false
   },
   "id": "bc12cbcfce92f383"
  },
  {
   "cell_type": "code",
   "execution_count": 21,
   "outputs": [],
   "source": [
    "def hundred_large_random():\n",
    "    random_list = [random.randint(10, 1000) for _ in range(100)]\n",
    "    return random_list"
   ],
   "metadata": {
    "collapsed": false,
    "ExecuteTime": {
     "end_time": "2023-09-25T21:01:45.454098500Z",
     "start_time": "2023-09-25T21:01:45.430066300Z"
    }
   },
   "id": "586792b8f8ecd642"
  },
  {
   "cell_type": "code",
   "execution_count": 21,
   "outputs": [],
   "source": [],
   "metadata": {
    "collapsed": false,
    "ExecuteTime": {
     "end_time": "2023-09-25T21:01:47.601327100Z",
     "start_time": "2023-09-25T21:01:47.573326200Z"
    }
   },
   "id": "fd4a6333ae377e15"
  },
  {
   "cell_type": "code",
   "execution_count": null,
   "outputs": [],
   "source": [
    "\"\"\"\n",
    "9., Készíts egy függvényt, amely visszaad 5 elemű, 9 és 1000 közötti, 3-al osztható egész számokat tartalmazó listát\n",
    "    függvény név: five_random_number_div_three\n",
    "    bemenet: None\n",
    "    kimeneti típus: List\n",
    "\n",
    "\"\"\""
   ],
   "metadata": {
    "collapsed": false
   },
   "id": "ce1496d7f237ab67"
  },
  {
   "cell_type": "code",
   "execution_count": 24,
   "outputs": [],
   "source": [
    "def five_random_number_div_three():\n",
    "    random_list = [random.randint(9, 1000) for _ in range(5)]\n",
    "\n",
    "    divisible_by_three = [x for x in random_list if x % 3 == 0]\n",
    "    \n",
    "    while len(divisible_by_three) < 5:\n",
    "        random_number = random.randint(9, 1000)\n",
    "        if random_number % 3 == 0 and random_number not in divisible_by_three:\n",
    "            divisible_by_three.append(random_number)\n",
    "    \n",
    "    return divisible_by_three"
   ],
   "metadata": {
    "collapsed": false,
    "ExecuteTime": {
     "end_time": "2023-09-25T21:04:54.886831900Z",
     "start_time": "2023-09-25T21:04:54.871204600Z"
    }
   },
   "id": "c9e3d1b8fe71de27"
  },
  {
   "cell_type": "code",
   "execution_count": 25,
   "outputs": [],
   "source": [],
   "metadata": {
    "collapsed": false,
    "ExecuteTime": {
     "end_time": "2023-09-25T21:06:03.874314200Z",
     "start_time": "2023-09-25T21:06:03.843035900Z"
    }
   },
   "id": "7f9d89c8ddc6ce59"
  },
  {
   "cell_type": "code",
   "execution_count": null,
   "outputs": [],
   "source": [
    "\"\"\"\n",
    "10., Készíts egy függvényt amely a bemeneti lista elemeit véletlenszerűen összekeveri\n",
    "    függvény név: random_reorder\n",
    "    bemenet: input_list\n",
    "    kimeneti típus: List\n",
    "\"\"\""
   ],
   "metadata": {
    "collapsed": false
   },
   "id": "6ad21e9a5d93bbfb"
  },
  {
   "cell_type": "code",
   "execution_count": 26,
   "outputs": [],
   "source": [
    "def random_reorder(input_list):\n",
    "    shuffled_list = input_list.copy() \n",
    "    random.shuffle(shuffled_list) \n",
    "\n",
    "    return shuffled_list"
   ],
   "metadata": {
    "collapsed": false,
    "ExecuteTime": {
     "end_time": "2023-09-25T21:06:33.996145300Z",
     "start_time": "2023-09-25T21:06:33.955251500Z"
    }
   },
   "id": "6f0329d3744fca49"
  },
  {
   "cell_type": "code",
   "execution_count": 27,
   "outputs": [
    {
     "name": "stdout",
     "output_type": "stream",
     "text": [
      "Összekevert lista: [4, 3, 5, 1, 2]\n"
     ]
    }
   ],
   "source": [
    "my_list = [1, 2, 3, 4, 5]\n",
    "shuffled_list = random_reorder(my_list)\n",
    "print(\"Összekevert lista:\", shuffled_list)"
   ],
   "metadata": {
    "collapsed": false,
    "ExecuteTime": {
     "end_time": "2023-09-25T21:06:42.098067600Z",
     "start_time": "2023-09-25T21:06:42.059318300Z"
    }
   },
   "id": "af6e3bdb8199d9f2"
  },
  {
   "cell_type": "code",
   "execution_count": null,
   "outputs": [],
   "source": [
    "\"\"\"\n",
    "11., Készíts egy függvényt, amely 1 és 5 közötti egyenletes eloszlású valós véletlen számot ad vissza minden meghívás esetén.\n",
    "    függvény név: uniform_one_to_five\n",
    "    bemenet: None\n",
    "    kimeneti típus: float\n",
    "\"\"\""
   ],
   "metadata": {
    "collapsed": false
   },
   "id": "b346c5d2a2c56fb4"
  },
  {
   "cell_type": "code",
   "execution_count": null,
   "outputs": [],
   "source": [],
   "metadata": {
    "collapsed": false
   },
   "id": "67c7bbf849747c09"
  },
  {
   "cell_type": "code",
   "execution_count": null,
   "outputs": [],
   "source": [],
   "metadata": {
    "collapsed": false
   },
   "id": "fb8a56105b94f9ce"
  },
  {
   "cell_type": "markdown",
   "source": [
    "### Az eloszlásokkal kapcsolatos feladatok megoldását mentse src/utils modul-ba a distributions.py nevű fájlba"
   ],
   "metadata": {
    "collapsed": false
   },
   "id": "e1a6639d7cd229b"
  },
  {
   "cell_type": "markdown",
   "source": [
    "#### II. Eloszlások"
   ],
   "metadata": {
    "collapsed": false
   },
   "id": "5591376fe0ff73b3"
  },
  {
   "cell_type": "code",
   "execution_count": null,
   "outputs": [],
   "source": [
    "\"\"\"\n",
    "1., Hozz létre egy új osztályt, aminek a neve FirstClass\n",
    "    osztály név: FirstClass\n",
    "\"\"\""
   ],
   "metadata": {
    "collapsed": false
   },
   "id": "664df0ef9ac68a9f"
  },
  {
   "cell_type": "code",
   "execution_count": 28,
   "outputs": [],
   "source": [
    "class FirstClass:\n",
    "    pass"
   ],
   "metadata": {
    "collapsed": false,
    "ExecuteTime": {
     "end_time": "2023-09-25T21:07:52.952794400Z",
     "start_time": "2023-09-25T21:07:52.893220200Z"
    }
   },
   "id": "6ba402a8cb789e1"
  },
  {
   "cell_type": "code",
   "execution_count": null,
   "outputs": [],
   "source": [
    "\"\"\"\n",
    "2., Hozz létre egy új osztályt, aminek a neve SecondClass, és definiáljon benne egy __init__ nevű függvényt, amely bead egy véletlenszám generátort a self.random adattagnak.\n",
    "    Osztály név: SecondClass\n",
    "    függvény név: __init__\n",
    "    bemenet: self, rand\n",
    "\"\"\""
   ],
   "metadata": {
    "collapsed": false
   },
   "id": "e34dccb1f71b37cd"
  },
  {
   "cell_type": "code",
   "execution_count": 29,
   "outputs": [],
   "source": [
    "class SecondClass:\n",
    "    def __init__(self, rand):\n",
    "        self.random = rand"
   ],
   "metadata": {
    "collapsed": false,
    "ExecuteTime": {
     "end_time": "2023-09-25T21:08:32.644526200Z",
     "start_time": "2023-09-25T21:08:32.589991500Z"
    }
   },
   "id": "3ee80f24a29d2303"
  },
  {
   "cell_type": "code",
   "execution_count": 30,
   "outputs": [
    {
     "name": "stdout",
     "output_type": "stream",
     "text": [
      "<class '__main__.SecondClass'>\n",
      "59\n"
     ]
    }
   ],
   "source": [
    "random_generator = random.Random()\n",
    "obj = SecondClass(random_generator)\n",
    "print(type(obj))\n",
    "print(obj.random.randint(1, 100))"
   ],
   "metadata": {
    "collapsed": false,
    "ExecuteTime": {
     "end_time": "2023-09-25T21:08:52.261893600Z",
     "start_time": "2023-09-25T21:08:52.211121800Z"
    }
   },
   "id": "56451accf00c5828"
  },
  {
   "cell_type": "code",
   "execution_count": null,
   "outputs": [],
   "source": [
    "\"\"\"\n",
    "3., Hozzan létre egy új osztályt aminek a neve UniformDistribution. Definiáljon benne a __init__ nevű függvényt, amelynek bemenetként kap egy véletlenszám generátort, és az eloszlás alsó (a) és felső határát (b), amely értékeket adattagokba ment le.\n",
    "    Osztály név: UniformDistribution\n",
    "    függvény név: __init__\n",
    "    bemenet: self, rand, a, b\n",
    "\"\"\"\n",
    "\"\"\"\n",
    "4., Egészítse ki a UniformDistribution osztályt egy új függvénnyel, amely a és b pont közötti értékekhez a hozzájuk tartozó egyenletes eloszlás, eloszlás függvényében hozzárendelt értékét rendeli.\n",
    "    függvény név: pdf\n",
    "    bemenet: x\n",
    "    kimeneti típus: float\n",
    "    link: https://en.wikipedia.org/wiki/Continuous_uniform_distribution\n",
    "\"\"\"\n",
    "\"\"\"\n",
    "5., Egészítse ki a UniformDistribution osztályt egy új függvénnyel, amely megvalósítja az egyenletes eloszlás kumulatív eloszlás függvényét.\n",
    "    függvény név: cdf\n",
    "    bemenet: x\n",
    "    kimeneti típus: float\n",
    "    link: https://en.wikipedia.org/wiki/Continuous_uniform_distribution\n",
    "\"\"\"\n",
    "\"\"\"\n",
    "6., Egészítse ki a UniformDistribution osztályt egy új függvénnyel, amely implementálja az egyenletes eloszlás inverz kumulatív eloszlás függvényét. (percent-point function)\n",
    "    függvény név: ppf\n",
    "    bemenet: p\n",
    "    kimeneti típus: float\n",
    "    link: https://en.wikipedia.org/wiki/Continuous_uniform_distribution\n",
    "\"\"\"\n",
    "\"\"\"\n",
    "7., Egészítse ki a UniformDistribution osztályt egy új függvénnyel, amely az osztály létrehozásánál megadott paraméterek mellett, egyenletes eloszlású véletlen számokat generál minden meghívásnál.\n",
    "    függvény név: gen_random\n",
    "    bemenet: None\n",
    "    kimeneti típus: float\n",
    "    link: https://en.wikipedia.org/wiki/Continuous_uniform_distribution\n",
    "\n",
    "\"\"\"\n",
    "\"\"\"\n",
    "8., Egészítse ki a UniformDistribution osztályt egy új függvénnyel, amely visszaadja az eloszlás függvény átlagát.  Ha az eloszlásnak nincsen ilyen értéke, akkor return helyett hívja meg a raise Exception(\"Moment undefined\") parancsot.\n",
    "    függvény név: mean\n",
    "    bemenet: None\n",
    "    kimeneti típus: float\n",
    "    link: https://en.wikipedia.org/wiki/Continuous_uniform_distribution\n",
    "\"\"\"\n",
    "\"\"\"\n",
    "9., Egészítse ki a UniformDistribution osztályt egy új függvénnyel, amely visszaadja az eloszlás függvény mediánját.\n",
    "    függvény név: median\n",
    "    bemenet: None\n",
    "    kimeneti típus: float\n",
    "    link: https://en.wikipedia.org/wiki/Continuous_uniform_distribution\n",
    "\"\"\"\n",
    "\"\"\"\n",
    "10., Egészítse ki a UniformDistribution osztályt egy új függvénnyel, amely visszaadja az eloszlás függvény varianciáját.  Ha az eloszlásnak nincsen ilyen értéke, akkor return helyett hívja meg a raise Exception(\"Moment undefined\") parancsot.\n",
    "    függvény név: variance\n",
    "    bemenet: None\n",
    "    kimeneti típus: float\n",
    "    link: https://en.wikipedia.org/wiki/Continuous_uniform_distribution\n",
    "\"\"\"\n",
    "\"\"\"\n",
    "11., Egészítse ki a UniformDistribution osztályt egy új függvénnyel, amely visszaadja az eloszlás függvény ferdeségét.  Ha az eloszlásnak nincsen ilyen értéke, akkor return helyett hívja meg a raise Exception(\"Moment undefined\") parancsot.\n",
    "    függvény név: skewness\n",
    "    bemenet: None\n",
    "    kimeneti típus: float\n",
    "    link: https://en.wikipedia.org/wiki/Continuous_uniform_distribution\n",
    "\"\"\"\n",
    "\"\"\"\n",
    "12., Egészítse ki a UniformDistribution osztályt egy új függvénnyel, amely visszaadja az eloszlás függvény többlet csúcsosságát.  Ha az eloszlásnak nincsen ilyen értéke, akkor return helyett hívja meg a raise Exception(\"Moment undefined\") parancsot.\n",
    "    függvény név: ex_kurtosis\n",
    "    bemenet: None\n",
    "    kimeneti típus: float\n",
    "    link: https://en.wikipedia.org/wiki/Continuous_uniform_distribution\n",
    "\"\"\"\n",
    "\"\"\"\n",
    "13., Egészítse ki a UniformDistribution osztályt egy új függvénnyel, amely visszaadja az eloszlás függvény első 3 cetrális momentumát és a többlet csúcsosságot.  Ha az eloszlásnak nincsenek ilyen értékei, akkor return helyett hívja meg a raise Exception(\"Moments undefined\") parancsot.\n",
    "    függvény név: mvsk\n",
    "    bemenet: None\n",
    "    kimeneti típus: List\n",
    "    link: https://en.wikipedia.org/wiki/Continuous_uniform_distribution\n",
    "\"\"\""
   ],
   "metadata": {
    "collapsed": false
   },
   "id": "16a24cd8bbf27601"
  },
  {
   "cell_type": "code",
   "execution_count": 31,
   "outputs": [],
   "source": [
    "# 4. feladat\n",
    "class UniformDistribution:\n",
    "    def __init__(self, rand, a, b):\n",
    "        self.random = rand\n",
    "        self.lower_bound = a\n",
    "        self.upper_bound = b\n",
    "\n",
    "    def pdf(self, x):\n",
    "        if x < self.lower_bound or x > self.upper_bound:\n",
    "            return 0.0  # Az érték kívül esik az eloszlás tartományán, tehát a valószínűség nulla\n",
    "\n",
    "        interval_width = self.upper_bound - self.lower_bound\n",
    "        probability_density = 1 / interval_width\n",
    "        return probability_density\n",
    "    \n",
    "# 5. feladatig\n",
    "\n",
    "class UniformDistribution:\n",
    "    def __init__(self, rand, a, b):\n",
    "        self.random = rand\n",
    "        self.lower_bound = a\n",
    "        self.upper_bound = b\n",
    "\n",
    "    def pdf(self, x):\n",
    "        if x < self.lower_bound or x > self.upper_bound:\n",
    "            return 0.0  # Az érték kívül esik az eloszlás tartományán, tehát a valószínűség nulla\n",
    "\n",
    "        interval_width = self.upper_bound - self.lower_bound\n",
    "        probability_density = 1 / interval_width\n",
    "        return probability_density\n",
    "\n",
    "    def cdf(self, x):\n",
    "        if x < self.lower_bound:\n",
    "            return 0.0\n",
    "        elif x > self.upper_bound:\n",
    "            return 1.0\n",
    "        else:\n",
    "            relative_position = (x - self.lower_bound) / (self.upper_bound - self.lower_bound)\n",
    "            return relative_position"
   ],
   "metadata": {
    "collapsed": false,
    "ExecuteTime": {
     "end_time": "2023-09-25T21:11:23.128995300Z",
     "start_time": "2023-09-25T21:11:23.091235200Z"
    }
   },
   "id": "bd08e6c93ec9bf3a"
  },
  {
   "cell_type": "code",
   "execution_count": null,
   "outputs": [],
   "source": [],
   "metadata": {
    "collapsed": false
   },
   "id": "316f42ca481d150b"
  },
  {
   "cell_type": "code",
   "execution_count": null,
   "outputs": [],
   "source": [
    "\"\"\"\n",
    "14., Hozzan létre egy új osztályt aminek a neve NormalDistribution. Definiáljon benne a __init__ nevű függvényt, amelynek bemenetként kap egy véletlenszám generátort, és az eloszlás várható értékét (location) és varianciáját (scale), amely értékeket adattagokba ment le.\n",
    "    Osztály név: NormalDistribution\n",
    "    függvény név: __init__\n",
    "    bemenet: self, rand, loc, scale\n",
    "\"\"\"\n",
    "\"\"\"\n",
    "15., Egészítse ki a NormalDistribution osztályt egy új függvénnyel, amely loc várható értékű és scale varianciájú normális eloszlás eloszlásfüggvényéből rendel valószínűségi értéket a bemeneti x valós számhoz.\n",
    "    függvény név: pdf\n",
    "    bemenet: x\n",
    "    kimeneti típus: float\n",
    "    link: https://en.wikipedia.org/wiki/Normal_distribution\n",
    "\"\"\"\n",
    "\"\"\"\n",
    "16., Egészítse ki a NormalDistribution osztályt egy új függvénnyel, amely megvalósítja az eloszlás kumulatív eloszlás függvényét.\n",
    "    függvény név: cdf\n",
    "    bemenet: x\n",
    "    kimeneti típus: float\n",
    "    link: https://en.wikipedia.org/wiki/Normal_distribution\n",
    "\"\"\"\n",
    "\"\"\"\n",
    "17., Egészítse ki a NormalDistribution osztályt egy új függvénnyel, amely implementálja az eloszlás inverz kumulatív eloszlás függvényét\n",
    "    függvény név: ppf\n",
    "    bemenet: p\n",
    "    kimeneti típus: float\n",
    "    link: https://en.wikipedia.org/wiki/Normal_distribution\n",
    "\"\"\"\n",
    "\"\"\"\n",
    "18., Egészítse ki a NormalDistribution osztályt egy új függvénnyel, amely az osztály létrehozásánál megadott paraméterek mellett, normális eloszlású véletlen számokat generál minden meghívásnál\n",
    "    függvény név: gen_random\n",
    "    bemenet: None\n",
    "    kimeneti típus: float\n",
    "    link: https://en.wikipedia.org/wiki/Normal_distribution\n",
    "\n",
    "\"\"\"\n",
    "\"\"\"\n",
    "19., Egészítse ki a NormalDistribution osztályt egy új függvénnyel, amely visszaadja az eloszlás függvény átlagát.  Ha az eloszlásnak nincsen ilyen értéke, akkor return helyett hívja meg a raise Exception(\"Moment undefined\") parancsot.\n",
    "    függvény név: mean\n",
    "    bemenet: None\n",
    "    kimeneti típus: float\n",
    "    link: https://en.wikipedia.org/wiki/Normal_distribution\n",
    "\"\"\"\n",
    "\"\"\"\n",
    "20., Egészítse ki a NormalDistribution osztályt egy új függvénnyel, amely visszaadja az eloszlás függvény mediánját\n",
    "    függvény név: median\n",
    "    bemenet: None\n",
    "    kimeneti típus: float\n",
    "    link: https://en.wikipedia.org/wiki/Normal_distribution\n",
    "\"\"\"\n",
    "\"\"\"\n",
    "21., Egészítse ki a NormalDistribution osztályt egy új függvénnyel, amely visszaadja az eloszlás függvény varianciáját.  Ha az eloszlásnak nincsen ilyen értéke, akkor return helyett hívja meg a raise Exception(\"Moment undefined\") parancsot.\n",
    "    függvény név: variance\n",
    "    bemenet: None\n",
    "    kimeneti típus: float\n",
    "    link: https://en.wikipedia.org/wiki/Normal_distribution\n",
    "\"\"\"\n",
    "\"\"\"\n",
    "22., Egészítse ki a NormalDistribution osztályt egy új függvénnyel, amely visszaadja az eloszlás függvény ferdeségét.  Ha az eloszlásnak nincsen ilyen értéke, akkor return helyett hívja meg a raise Exception(\"Moment undefined\") parancsot.\n",
    "    függvény név: skewness\n",
    "    bemenet: None\n",
    "    kimeneti típus: float\n",
    "    link: https://en.wikipedia.org/wiki/Normal_distribution\n",
    "\"\"\"\n",
    "\n",
    "\"\"\"\n",
    "23., Egészítse ki a NormalDistribution osztályt egy új függvénnyel, amely visszaadja az eloszlás függvény többlet csúcsosságát.  Ha az eloszlásnak nincsen ilyen értéke, akkor return helyett hívja meg a raise Exception(\"Moment undefined\") parancsot.\n",
    "    függvény név: ex_kurtosis\n",
    "    bemenet: None\n",
    "    kimeneti típus: float\n",
    "    link: https://en.wikipedia.org/wiki/Normal_distribution\n",
    "\"\"\"\n",
    "\n",
    "\"\"\"\n",
    "24., Egészítse ki a NormalDistribution osztályt egy új függvénnyel, amely visszaadja az eloszlás függvény első 3 cetrális momentumát és a többlet csúcsosságot.  Ha az eloszlásnak nincsenek ilyen értékei, akkor return helyett hívja meg a raise Exception(\"Moment undefined\") parancsot.\n",
    "    függvény név: mvsk\n",
    "    bemenet: None\n",
    "    kimeneti típus: List\n",
    "    link: https://en.wikipedia.org/wiki/Normal_distribution\n",
    "\"\"\""
   ],
   "metadata": {
    "collapsed": false
   },
   "id": "982e36a2889ff566"
  },
  {
   "cell_type": "code",
   "execution_count": null,
   "outputs": [],
   "source": [],
   "metadata": {
    "collapsed": false
   },
   "id": "458acbe6ee93cd47"
  },
  {
   "cell_type": "code",
   "execution_count": null,
   "outputs": [],
   "source": [],
   "metadata": {
    "collapsed": false
   },
   "id": "33b2b698ad872fee"
  },
  {
   "cell_type": "code",
   "execution_count": null,
   "outputs": [],
   "source": [
    "\"\"\"\n",
    "25., Hozzan létre egy új osztályt aminek a neve CauchyDistribution. Definiáljon benne a __init__ nevű függvényt, amelynek bemenetként kap egy véletlenszám generátort, az x0 (location) és gamma (scale) értékeket, amelyeket adattagokba ment le.\n",
    "    Osztály név: CauchyDistribution\n",
    "    függvény név: __init__\n",
    "    bemenet: self, rand, loc, scale\n",
    "\"\"\"\n",
    "\n",
    "\"\"\"\n",
    "26., Egészítse ki a CauchyDistribution osztályt egy új függvénnyel, amely a bemeneti x értékhez hozzárendeli annak valószínűségi értékét\n",
    "    függvény név: pdf\n",
    "    bemenet: x\n",
    "    kimeneti típus: float\n",
    "    link: https://en.wikipedia.org/wiki/Cauchy_distribution\n",
    "\"\"\"\n",
    "\n",
    "\"\"\"\n",
    "27., Egészítse ki a CauchyDistribution osztályt egy új függvénnyel, amely megvalósítja az eloszlás kumulatív eloszlás függvényét.\n",
    "    függvény név: cdf\n",
    "    bemenet: x\n",
    "    kimeneti típus: float\n",
    "    link: https://en.wikipedia.org/wiki/Cauchy_distribution\n",
    "\"\"\"\n",
    "\n",
    "\"\"\"\n",
    "28., Egészítse ki a CauchyDistribution osztályt egy új függvénnyel, amely implementálja az eloszlás inverz kumulatív eloszlás függvényét\n",
    "    függvény név: ppf\n",
    "    bemenet: p\n",
    "    kimeneti típus: float\n",
    "    link: https://en.wikipedia.org/wiki/Cauchy_distribution\n",
    "\"\"\"\n",
    "\n",
    "\"\"\"\n",
    "29., Egészítse ki a CauchyDistribution osztályt egy új függvénnyel, amely az osztály létrehozásánál megadott paraméterek mellett, cauchy eloszlású véletlen számokat generál minden meghívásnál\n",
    "    függvény név: gen_random\n",
    "    bemenet: None\n",
    "    kimeneti típus: float\n",
    "    link: https://en.wikipedia.org/wiki/Cauchy_distribution\n",
    "\"\"\"\n",
    "\n",
    "\"\"\"\n",
    "30., Egészítse ki a CauchyDistribution osztályt egy új függvénnyel, amely visszaadja az eloszlás függvény átlagát. Ha az eloszlásnak nincsen ilyen értéke, akkor return helyett hívja meg a raise Exception(\"Moment undefined\") parancsot.\n",
    "    függvény név: mean\n",
    "    bemenet: None\n",
    "    kimeneti típus: float\n",
    "    link: https://en.wikipedia.org/wiki/Cauchy_distribution\n",
    "\"\"\"\n",
    "\n",
    "\"\"\"\n",
    "31., Egészítse ki a CauchyDistribution osztályt egy új függvénnyel, amely visszaadja az eloszlás függvény mediánját.\n",
    "    függvény név: median\n",
    "    bemenet: None\n",
    "    kimeneti típus: float\n",
    "    link: https://en.wikipedia.org/wiki/Cauchy_distribution\n",
    "\"\"\"\n",
    "\n",
    "\"\"\"\n",
    "32., Egészítse ki a CauchyDistribution osztályt egy új függvénnyel, amely visszaadja az eloszlás függvény varianciáját.  Ha az eloszlásnak nincsen ilyen értéke, akkor return helyett hívja meg a raise Exception(\"Moment undefined\") parancsot.\n",
    "    függvény név: variance\n",
    "    bemenet: None\n",
    "    kimeneti típus: float\n",
    "    link: https://en.wikipedia.org/wiki/Cauchy_distribution\n",
    "\"\"\"\n",
    "\n",
    "\"\"\"\n",
    "33., Egészítse ki a CauchyDistribution osztályt egy új függvénnyel, amely visszaadja az eloszlás függvény ferdeségét.  Ha az eloszlásnak nincsen ilyen értéke, akkor return helyett hívja meg a raise Exception(\"Moment undefined\") parancsot.\n",
    "    függvény név: skewness\n",
    "    bemenet: None\n",
    "    kimeneti típus: float\n",
    "    link: https://en.wikipedia.org/wiki/Cauchy_distribution\n",
    "\"\"\"\n",
    "\n",
    "\"\"\"\n",
    "34., Egészítse ki a CauchyDistribution osztályt egy új függvénnyel, amely visszaadja az eloszlás függvény többlet csúcsosságát.  Ha az eloszlásnak nincsen ilyen értéke, akkor return helyett hívja meg a raise Exception(\"Moment undefined\") parancsot.\n",
    "    függvény név: ex_kurtosis\n",
    "    bemenet: None\n",
    "    kimeneti típus: float\n",
    "    link: https://en.wikipedia.org/wiki/Cauchy_distribution\n",
    "\"\"\"\n",
    "\n",
    "\"\"\"\n",
    "35., Egészítse ki a CauchyDistribution osztályt egy új függvénnyel, amely visszaadja az eloszlás függvény első 3 cetrális momentumát és a többlet csúcsosságot.  Ha az eloszlásnak nincsenek ilyen értékei, akkor return helyett hívja meg a raise Exception(\"Moments undefined\") parancsot.\n",
    "    függvény név: mvsk\n",
    "    bemenet: None\n",
    "    kimeneti típus: List\n",
    "    link: https://en.wikipedia.org/wiki/Cauchy_distribution\n",
    "\"\"\""
   ],
   "metadata": {
    "collapsed": false
   },
   "id": "4cf53dd0ca6be7bf"
  },
  {
   "cell_type": "code",
   "execution_count": null,
   "outputs": [],
   "source": [],
   "metadata": {
    "collapsed": false
   },
   "id": "e945447dfe21a612"
  },
  {
   "cell_type": "code",
   "execution_count": null,
   "outputs": [],
   "source": [],
   "metadata": {
    "collapsed": false
   },
   "id": "435dfed4191c324"
  }
 ],
 "metadata": {
  "kernelspec": {
   "display_name": "Python 3",
   "language": "python",
   "name": "python3"
  },
  "language_info": {
   "codemirror_mode": {
    "name": "ipython",
    "version": 2
   },
   "file_extension": ".py",
   "mimetype": "text/x-python",
   "name": "python",
   "nbconvert_exporter": "python",
   "pygments_lexer": "ipython2",
   "version": "2.7.6"
  }
 },
 "nbformat": 4,
 "nbformat_minor": 5
}
